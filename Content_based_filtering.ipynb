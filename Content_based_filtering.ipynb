{
  "nbformat": 4,
  "nbformat_minor": 0,
  "metadata": {
    "colab": {
      "name": "SONG_LYRICS.ipynb",
      "provenance": [],
      "collapsed_sections": []
    },
    "kernelspec": {
      "name": "python3",
      "display_name": "Python 3"
    },
    "language_info": {
      "name": "python"
    }
  },
  "cells": [
    {
      "cell_type": "code",
      "metadata": {
        "colab": {
          "base_uri": "https://localhost:8080/"
        },
        "id": "ZAOl_nESllKo",
        "outputId": "fb6a1765-8c91-4141-bb70-348b463bf813"
      },
      "source": [
        "from google.colab import drive\n",
        "drive.mount('/content/drive',force_remount=True)"
      ],
      "execution_count": null,
      "outputs": [
        {
          "output_type": "stream",
          "text": [
            "Mounted at /content/drive\n"
          ],
          "name": "stdout"
        }
      ]
    },
    {
      "cell_type": "code",
      "metadata": {
        "id": "HJMaM7qmk6fm"
      },
      "source": [
        "import numpy as np\n",
        "import pandas as pd\n",
        "import sqlite3 as sql"
      ],
      "execution_count": null,
      "outputs": []
    },
    {
      "cell_type": "code",
      "metadata": {
        "id": "q4vJBmiFjENf"
      },
      "source": [
        "triplets = pd.read_csv(\"/content/drive/MyDrive/song_Dataset/10000.txt\",sep=\"\\t\",names=[\"user_id\",\"song_id\",\"count\"],header=None)"
      ],
      "execution_count": null,
      "outputs": []
    },
    {
      "cell_type": "code",
      "metadata": {
        "colab": {
          "base_uri": "https://localhost:8080/",
          "height": 204
        },
        "id": "AEeqAKPwpDwM",
        "outputId": "b65c6d70-e6bd-446b-abce-4b30488d0f58"
      },
      "source": [
        "triplets.head()"
      ],
      "execution_count": null,
      "outputs": [
        {
          "output_type": "execute_result",
          "data": {
            "text/html": [
              "<div>\n",
              "<style scoped>\n",
              "    .dataframe tbody tr th:only-of-type {\n",
              "        vertical-align: middle;\n",
              "    }\n",
              "\n",
              "    .dataframe tbody tr th {\n",
              "        vertical-align: top;\n",
              "    }\n",
              "\n",
              "    .dataframe thead th {\n",
              "        text-align: right;\n",
              "    }\n",
              "</style>\n",
              "<table border=\"1\" class=\"dataframe\">\n",
              "  <thead>\n",
              "    <tr style=\"text-align: right;\">\n",
              "      <th></th>\n",
              "      <th>user_id</th>\n",
              "      <th>song_id</th>\n",
              "      <th>count</th>\n",
              "    </tr>\n",
              "  </thead>\n",
              "  <tbody>\n",
              "    <tr>\n",
              "      <th>0</th>\n",
              "      <td>b80344d063b5ccb3212f76538f3d9e43d87dca9e</td>\n",
              "      <td>SOAKIMP12A8C130995</td>\n",
              "      <td>1</td>\n",
              "    </tr>\n",
              "    <tr>\n",
              "      <th>1</th>\n",
              "      <td>b80344d063b5ccb3212f76538f3d9e43d87dca9e</td>\n",
              "      <td>SOBBMDR12A8C13253B</td>\n",
              "      <td>2</td>\n",
              "    </tr>\n",
              "    <tr>\n",
              "      <th>2</th>\n",
              "      <td>b80344d063b5ccb3212f76538f3d9e43d87dca9e</td>\n",
              "      <td>SOBXHDL12A81C204C0</td>\n",
              "      <td>1</td>\n",
              "    </tr>\n",
              "    <tr>\n",
              "      <th>3</th>\n",
              "      <td>b80344d063b5ccb3212f76538f3d9e43d87dca9e</td>\n",
              "      <td>SOBYHAJ12A6701BF1D</td>\n",
              "      <td>1</td>\n",
              "    </tr>\n",
              "    <tr>\n",
              "      <th>4</th>\n",
              "      <td>b80344d063b5ccb3212f76538f3d9e43d87dca9e</td>\n",
              "      <td>SODACBL12A8C13C273</td>\n",
              "      <td>1</td>\n",
              "    </tr>\n",
              "  </tbody>\n",
              "</table>\n",
              "</div>"
            ],
            "text/plain": [
              "                                    user_id             song_id  count\n",
              "0  b80344d063b5ccb3212f76538f3d9e43d87dca9e  SOAKIMP12A8C130995      1\n",
              "1  b80344d063b5ccb3212f76538f3d9e43d87dca9e  SOBBMDR12A8C13253B      2\n",
              "2  b80344d063b5ccb3212f76538f3d9e43d87dca9e  SOBXHDL12A81C204C0      1\n",
              "3  b80344d063b5ccb3212f76538f3d9e43d87dca9e  SOBYHAJ12A6701BF1D      1\n",
              "4  b80344d063b5ccb3212f76538f3d9e43d87dca9e  SODACBL12A8C13C273      1"
            ]
          },
          "metadata": {
            "tags": []
          },
          "execution_count": 4
        }
      ]
    },
    {
      "cell_type": "code",
      "metadata": {
        "colab": {
          "base_uri": "https://localhost:8080/"
        },
        "id": "Bp1jQ16srPem",
        "outputId": "aa9ae5a0-356c-43bf-dea1-c3e904113af5"
      },
      "source": [
        "song_unique_list = triplets[\"song_id\"].unique()\n",
        "len(song_unique_list)"
      ],
      "execution_count": null,
      "outputs": [
        {
          "output_type": "execute_result",
          "data": {
            "text/plain": [
              "10000"
            ]
          },
          "metadata": {
            "tags": []
          },
          "execution_count": 5
        }
      ]
    },
    {
      "cell_type": "code",
      "metadata": {
        "colab": {
          "base_uri": "https://localhost:8080/"
        },
        "id": "w2oDDlhArxFp",
        "outputId": "057a2274-5960-43ac-b0d5-e135efe0f291"
      },
      "source": [
        "len(triplets[\"song_id\"].to_numpy())"
      ],
      "execution_count": null,
      "outputs": [
        {
          "output_type": "execute_result",
          "data": {
            "text/plain": [
              "2000000"
            ]
          },
          "metadata": {
            "tags": []
          },
          "execution_count": 6
        }
      ]
    },
    {
      "cell_type": "code",
      "metadata": {
        "colab": {
          "base_uri": "https://localhost:8080/"
        },
        "id": "z1ViNwLBpQ6h",
        "outputId": "9c8d6e8f-1ba5-4e2a-a48d-6a9521b1be05"
      },
      "source": [
        "unique_track = pd.read_csv(\"/content/drive/MyDrive/song_lyrics/unique_tracks.txt\",sep=\"<SEP>\",header=None,names=[\"track_id\",\"song_id\",\"artist_name\",\"title\"])"
      ],
      "execution_count": null,
      "outputs": [
        {
          "output_type": "stream",
          "text": [
            "/usr/local/lib/python3.7/dist-packages/ipykernel_launcher.py:1: ParserWarning: Falling back to the 'python' engine because the 'c' engine does not support regex separators (separators > 1 char and different from '\\s+' are interpreted as regex); you can avoid this warning by specifying engine='python'.\n",
            "  \"\"\"Entry point for launching an IPython kernel.\n"
          ],
          "name": "stderr"
        }
      ]
    },
    {
      "cell_type": "code",
      "metadata": {
        "colab": {
          "base_uri": "https://localhost:8080/",
          "height": 204
        },
        "id": "hq37dugupi4a",
        "outputId": "289e0d0c-46bf-4b88-83cc-430faac1624f"
      },
      "source": [
        "unique_track.head()"
      ],
      "execution_count": null,
      "outputs": [
        {
          "output_type": "execute_result",
          "data": {
            "text/html": [
              "<div>\n",
              "<style scoped>\n",
              "    .dataframe tbody tr th:only-of-type {\n",
              "        vertical-align: middle;\n",
              "    }\n",
              "\n",
              "    .dataframe tbody tr th {\n",
              "        vertical-align: top;\n",
              "    }\n",
              "\n",
              "    .dataframe thead th {\n",
              "        text-align: right;\n",
              "    }\n",
              "</style>\n",
              "<table border=\"1\" class=\"dataframe\">\n",
              "  <thead>\n",
              "    <tr style=\"text-align: right;\">\n",
              "      <th></th>\n",
              "      <th>track_id</th>\n",
              "      <th>song_id</th>\n",
              "      <th>artist_name</th>\n",
              "      <th>title</th>\n",
              "    </tr>\n",
              "  </thead>\n",
              "  <tbody>\n",
              "    <tr>\n",
              "      <th>0</th>\n",
              "      <td>TRMMMYQ128F932D901</td>\n",
              "      <td>SOQMMHC12AB0180CB8</td>\n",
              "      <td>Faster Pussy cat</td>\n",
              "      <td>Silent Night</td>\n",
              "    </tr>\n",
              "    <tr>\n",
              "      <th>1</th>\n",
              "      <td>TRMMMKD128F425225D</td>\n",
              "      <td>SOVFVAK12A8C1350D9</td>\n",
              "      <td>Karkkiautomaatti</td>\n",
              "      <td>Tanssi vaan</td>\n",
              "    </tr>\n",
              "    <tr>\n",
              "      <th>2</th>\n",
              "      <td>TRMMMRX128F93187D9</td>\n",
              "      <td>SOGTUKN12AB017F4F1</td>\n",
              "      <td>Hudson Mohawke</td>\n",
              "      <td>No One Could Ever</td>\n",
              "    </tr>\n",
              "    <tr>\n",
              "      <th>3</th>\n",
              "      <td>TRMMMCH128F425532C</td>\n",
              "      <td>SOBNYVR12A8C13558C</td>\n",
              "      <td>Yerba Brava</td>\n",
              "      <td>Si Vos Querés</td>\n",
              "    </tr>\n",
              "    <tr>\n",
              "      <th>4</th>\n",
              "      <td>TRMMMWA128F426B589</td>\n",
              "      <td>SOHSBXH12A8C13B0DF</td>\n",
              "      <td>Der Mystic</td>\n",
              "      <td>Tangle Of Aspens</td>\n",
              "    </tr>\n",
              "  </tbody>\n",
              "</table>\n",
              "</div>"
            ],
            "text/plain": [
              "             track_id             song_id       artist_name              title\n",
              "0  TRMMMYQ128F932D901  SOQMMHC12AB0180CB8  Faster Pussy cat       Silent Night\n",
              "1  TRMMMKD128F425225D  SOVFVAK12A8C1350D9  Karkkiautomaatti        Tanssi vaan\n",
              "2  TRMMMRX128F93187D9  SOGTUKN12AB017F4F1    Hudson Mohawke  No One Could Ever\n",
              "3  TRMMMCH128F425532C  SOBNYVR12A8C13558C       Yerba Brava      Si Vos Querés\n",
              "4  TRMMMWA128F426B589  SOHSBXH12A8C13B0DF        Der Mystic   Tangle Of Aspens"
            ]
          },
          "metadata": {
            "tags": []
          },
          "execution_count": 8
        }
      ]
    },
    {
      "cell_type": "code",
      "metadata": {
        "id": "LoAWgkgUscfz"
      },
      "source": [
        "unique_track = unique_track[unique_track.song_id.isin(song_unique_list)]"
      ],
      "execution_count": null,
      "outputs": []
    },
    {
      "cell_type": "code",
      "metadata": {
        "colab": {
          "base_uri": "https://localhost:8080/",
          "height": 204
        },
        "id": "bat2ADI6s98L",
        "outputId": "ee27e370-6e47-4888-d152-8b08193a836a"
      },
      "source": [
        "unique_track.head()"
      ],
      "execution_count": null,
      "outputs": [
        {
          "output_type": "execute_result",
          "data": {
            "text/html": [
              "<div>\n",
              "<style scoped>\n",
              "    .dataframe tbody tr th:only-of-type {\n",
              "        vertical-align: middle;\n",
              "    }\n",
              "\n",
              "    .dataframe tbody tr th {\n",
              "        vertical-align: top;\n",
              "    }\n",
              "\n",
              "    .dataframe thead th {\n",
              "        text-align: right;\n",
              "    }\n",
              "</style>\n",
              "<table border=\"1\" class=\"dataframe\">\n",
              "  <thead>\n",
              "    <tr style=\"text-align: right;\">\n",
              "      <th></th>\n",
              "      <th>track_id</th>\n",
              "      <th>song_id</th>\n",
              "      <th>artist_name</th>\n",
              "      <th>title</th>\n",
              "    </tr>\n",
              "  </thead>\n",
              "  <tbody>\n",
              "    <tr>\n",
              "      <th>245</th>\n",
              "      <td>TRMMCDR128F423AB03</td>\n",
              "      <td>SOSZNRJ12A8AE46E38</td>\n",
              "      <td>Michael Cera &amp; Ellen Page</td>\n",
              "      <td>Anyone Else But You</td>\n",
              "    </tr>\n",
              "    <tr>\n",
              "      <th>412</th>\n",
              "      <td>TRMMFSL128F4234583</td>\n",
              "      <td>SOGKGLB12A81C22AFA</td>\n",
              "      <td>Kanye West / Mos Def</td>\n",
              "      <td>Drunk and Hot Girls</td>\n",
              "    </tr>\n",
              "    <tr>\n",
              "      <th>464</th>\n",
              "      <td>TRMMQSP128F1486267</td>\n",
              "      <td>SOWZDNH12A6D4F7237</td>\n",
              "      <td>Story Of The Year</td>\n",
              "      <td>Until The Day I Die (Album Version)</td>\n",
              "    </tr>\n",
              "    <tr>\n",
              "      <th>484</th>\n",
              "      <td>TRMMQOL128F9340687</td>\n",
              "      <td>SOQBGZD12AB0184341</td>\n",
              "      <td>Paramore</td>\n",
              "      <td>Rewind (Demo)</td>\n",
              "    </tr>\n",
              "    <tr>\n",
              "      <th>548</th>\n",
              "      <td>TRMMZKU128F4296801</td>\n",
              "      <td>SOTPWHK12A8AE46DC8</td>\n",
              "      <td>Rick Astley</td>\n",
              "      <td>Never Knew Love</td>\n",
              "    </tr>\n",
              "  </tbody>\n",
              "</table>\n",
              "</div>"
            ],
            "text/plain": [
              "               track_id  ...                                title\n",
              "245  TRMMCDR128F423AB03  ...                  Anyone Else But You\n",
              "412  TRMMFSL128F4234583  ...                  Drunk and Hot Girls\n",
              "464  TRMMQSP128F1486267  ...  Until The Day I Die (Album Version)\n",
              "484  TRMMQOL128F9340687  ...                        Rewind (Demo)\n",
              "548  TRMMZKU128F4296801  ...                      Never Knew Love\n",
              "\n",
              "[5 rows x 4 columns]"
            ]
          },
          "metadata": {
            "tags": []
          },
          "execution_count": 10
        }
      ]
    },
    {
      "cell_type": "code",
      "metadata": {
        "colab": {
          "base_uri": "https://localhost:8080/"
        },
        "id": "SAXMo1JIsLbj",
        "outputId": "ac5be3fa-e6df-4cda-9429-3de25fda59be"
      },
      "source": [
        "unique_track[\"song_id\"].nunique()"
      ],
      "execution_count": null,
      "outputs": [
        {
          "output_type": "execute_result",
          "data": {
            "text/plain": [
              "10000"
            ]
          },
          "metadata": {
            "tags": []
          },
          "execution_count": 11
        }
      ]
    },
    {
      "cell_type": "code",
      "metadata": {
        "id": "7JjY_D-Vpkbn"
      },
      "source": [
        "merge_df = triplets.merge(unique_track,how=\"inner\",on=\"song_id\")"
      ],
      "execution_count": null,
      "outputs": []
    },
    {
      "cell_type": "code",
      "metadata": {
        "colab": {
          "base_uri": "https://localhost:8080/",
          "height": 204
        },
        "id": "ZnWPP2vnp_Vg",
        "outputId": "bfd6195c-db04-4349-8f0b-e05b069d2938"
      },
      "source": [
        "merge_df.head()"
      ],
      "execution_count": null,
      "outputs": [
        {
          "output_type": "execute_result",
          "data": {
            "text/html": [
              "<div>\n",
              "<style scoped>\n",
              "    .dataframe tbody tr th:only-of-type {\n",
              "        vertical-align: middle;\n",
              "    }\n",
              "\n",
              "    .dataframe tbody tr th {\n",
              "        vertical-align: top;\n",
              "    }\n",
              "\n",
              "    .dataframe thead th {\n",
              "        text-align: right;\n",
              "    }\n",
              "</style>\n",
              "<table border=\"1\" class=\"dataframe\">\n",
              "  <thead>\n",
              "    <tr style=\"text-align: right;\">\n",
              "      <th></th>\n",
              "      <th>user_id</th>\n",
              "      <th>song_id</th>\n",
              "      <th>count</th>\n",
              "      <th>track_id</th>\n",
              "      <th>artist_name</th>\n",
              "      <th>title</th>\n",
              "    </tr>\n",
              "  </thead>\n",
              "  <tbody>\n",
              "    <tr>\n",
              "      <th>0</th>\n",
              "      <td>b80344d063b5ccb3212f76538f3d9e43d87dca9e</td>\n",
              "      <td>SOAKIMP12A8C130995</td>\n",
              "      <td>1</td>\n",
              "      <td>TRIQAUQ128F42435AD</td>\n",
              "      <td>Jack Johnson</td>\n",
              "      <td>The Cove</td>\n",
              "    </tr>\n",
              "    <tr>\n",
              "      <th>1</th>\n",
              "      <td>7c86176941718984fed11b7c0674ff04c029b480</td>\n",
              "      <td>SOAKIMP12A8C130995</td>\n",
              "      <td>1</td>\n",
              "      <td>TRIQAUQ128F42435AD</td>\n",
              "      <td>Jack Johnson</td>\n",
              "      <td>The Cove</td>\n",
              "    </tr>\n",
              "    <tr>\n",
              "      <th>2</th>\n",
              "      <td>76235885b32c4e8c82760c340dc54f9b608d7d7e</td>\n",
              "      <td>SOAKIMP12A8C130995</td>\n",
              "      <td>3</td>\n",
              "      <td>TRIQAUQ128F42435AD</td>\n",
              "      <td>Jack Johnson</td>\n",
              "      <td>The Cove</td>\n",
              "    </tr>\n",
              "    <tr>\n",
              "      <th>3</th>\n",
              "      <td>250c0fa2a77bc6695046e7c47882ecd85c42d748</td>\n",
              "      <td>SOAKIMP12A8C130995</td>\n",
              "      <td>1</td>\n",
              "      <td>TRIQAUQ128F42435AD</td>\n",
              "      <td>Jack Johnson</td>\n",
              "      <td>The Cove</td>\n",
              "    </tr>\n",
              "    <tr>\n",
              "      <th>4</th>\n",
              "      <td>3f73f44560e822344b0fb7c6b463869743eb9860</td>\n",
              "      <td>SOAKIMP12A8C130995</td>\n",
              "      <td>6</td>\n",
              "      <td>TRIQAUQ128F42435AD</td>\n",
              "      <td>Jack Johnson</td>\n",
              "      <td>The Cove</td>\n",
              "    </tr>\n",
              "  </tbody>\n",
              "</table>\n",
              "</div>"
            ],
            "text/plain": [
              "                                    user_id  ...     title\n",
              "0  b80344d063b5ccb3212f76538f3d9e43d87dca9e  ...  The Cove\n",
              "1  7c86176941718984fed11b7c0674ff04c029b480  ...  The Cove\n",
              "2  76235885b32c4e8c82760c340dc54f9b608d7d7e  ...  The Cove\n",
              "3  250c0fa2a77bc6695046e7c47882ecd85c42d748  ...  The Cove\n",
              "4  3f73f44560e822344b0fb7c6b463869743eb9860  ...  The Cove\n",
              "\n",
              "[5 rows x 6 columns]"
            ]
          },
          "metadata": {
            "tags": []
          },
          "execution_count": 13
        }
      ]
    },
    {
      "cell_type": "code",
      "metadata": {
        "colab": {
          "base_uri": "https://localhost:8080/"
        },
        "id": "-38I6BCAqBsr",
        "outputId": "d03c5276-a9bc-4b7c-b7ba-011d24c45fb5"
      },
      "source": [
        "match_df = pd.read_csv(\"/content/drive/MyDrive/song_lyrics/mxm_779k_matches.txt\",header=None,comment=\"#\",\n",
        "                       names=[\"track_id\",\"artist_name\",\"title\",\"mxm_id\",\"mxm_artist\",\"mxm_title\"],sep=\"<SEP>\")"
      ],
      "execution_count": null,
      "outputs": [
        {
          "output_type": "stream",
          "text": [
            "/usr/local/lib/python3.7/dist-packages/ipykernel_launcher.py:2: ParserWarning: Falling back to the 'python' engine because the 'c' engine does not support regex separators (separators > 1 char and different from '\\s+' are interpreted as regex); you can avoid this warning by specifying engine='python'.\n",
            "  \n"
          ],
          "name": "stderr"
        }
      ]
    },
    {
      "cell_type": "code",
      "metadata": {
        "id": "rnktHzrUt1J9"
      },
      "source": [
        "match_df = match_df[[\"track_id\",\"mxm_artist\",\"mxm_title\",\"mxm_id\"]]"
      ],
      "execution_count": null,
      "outputs": []
    },
    {
      "cell_type": "code",
      "metadata": {
        "colab": {
          "base_uri": "https://localhost:8080/",
          "height": 204
        },
        "id": "HRv5X82QqL1n",
        "outputId": "213b0d51-6d7e-4edd-d1e6-9b1765bd9aa4"
      },
      "source": [
        "match_df.head()"
      ],
      "execution_count": null,
      "outputs": [
        {
          "output_type": "execute_result",
          "data": {
            "text/html": [
              "<div>\n",
              "<style scoped>\n",
              "    .dataframe tbody tr th:only-of-type {\n",
              "        vertical-align: middle;\n",
              "    }\n",
              "\n",
              "    .dataframe tbody tr th {\n",
              "        vertical-align: top;\n",
              "    }\n",
              "\n",
              "    .dataframe thead th {\n",
              "        text-align: right;\n",
              "    }\n",
              "</style>\n",
              "<table border=\"1\" class=\"dataframe\">\n",
              "  <thead>\n",
              "    <tr style=\"text-align: right;\">\n",
              "      <th></th>\n",
              "      <th>track_id</th>\n",
              "      <th>mxm_artist</th>\n",
              "      <th>mxm_title</th>\n",
              "      <th>mxm_id</th>\n",
              "    </tr>\n",
              "  </thead>\n",
              "  <tbody>\n",
              "    <tr>\n",
              "      <th>0</th>\n",
              "      <td>TRMMMKD128F425225D</td>\n",
              "      <td>Karkkiautomaatti</td>\n",
              "      <td>Tanssi vaan</td>\n",
              "      <td>4418550.0</td>\n",
              "    </tr>\n",
              "    <tr>\n",
              "      <th>1</th>\n",
              "      <td>TRMMMRX128F93187D9</td>\n",
              "      <td>Hudson Mohawke</td>\n",
              "      <td>No One Could Ever</td>\n",
              "      <td>8898149.0</td>\n",
              "    </tr>\n",
              "    <tr>\n",
              "      <th>2</th>\n",
              "      <td>TRMMMCH128F425532C</td>\n",
              "      <td>Yerba Brava</td>\n",
              "      <td>Si vos queres</td>\n",
              "      <td>9239868.0</td>\n",
              "    </tr>\n",
              "    <tr>\n",
              "      <th>3</th>\n",
              "      <td>TRMMMXN128F42936A5</td>\n",
              "      <td>Franz Berwald</td>\n",
              "      <td>Symphony No. 1 in G minor \"Sinfonie Sérieuse\":...</td>\n",
              "      <td>5346741.0</td>\n",
              "    </tr>\n",
              "    <tr>\n",
              "      <th>4</th>\n",
              "      <td>TRMMMBB12903CB7D21</td>\n",
              "      <td>Kris Kross</td>\n",
              "      <td>2 Da Beat Ch'yall</td>\n",
              "      <td>2511405.0</td>\n",
              "    </tr>\n",
              "  </tbody>\n",
              "</table>\n",
              "</div>"
            ],
            "text/plain": [
              "             track_id  ...     mxm_id\n",
              "0  TRMMMKD128F425225D  ...  4418550.0\n",
              "1  TRMMMRX128F93187D9  ...  8898149.0\n",
              "2  TRMMMCH128F425532C  ...  9239868.0\n",
              "3  TRMMMXN128F42936A5  ...  5346741.0\n",
              "4  TRMMMBB12903CB7D21  ...  2511405.0\n",
              "\n",
              "[5 rows x 4 columns]"
            ]
          },
          "metadata": {
            "tags": []
          },
          "execution_count": 16
        }
      ]
    },
    {
      "cell_type": "code",
      "metadata": {
        "id": "yF0vRa1ZqNMe"
      },
      "source": [
        "match_merge =merge_df.merge(match_df,how=\"left\",on=\"track_id\")"
      ],
      "execution_count": null,
      "outputs": []
    },
    {
      "cell_type": "code",
      "metadata": {
        "colab": {
          "base_uri": "https://localhost:8080/",
          "height": 309
        },
        "id": "T-K1czxUq-Wk",
        "outputId": "158f2b76-960a-4ae2-8b6e-9e6ed54e3f2d"
      },
      "source": [
        "match_merge.head()"
      ],
      "execution_count": null,
      "outputs": [
        {
          "output_type": "execute_result",
          "data": {
            "text/html": [
              "<div>\n",
              "<style scoped>\n",
              "    .dataframe tbody tr th:only-of-type {\n",
              "        vertical-align: middle;\n",
              "    }\n",
              "\n",
              "    .dataframe tbody tr th {\n",
              "        vertical-align: top;\n",
              "    }\n",
              "\n",
              "    .dataframe thead th {\n",
              "        text-align: right;\n",
              "    }\n",
              "</style>\n",
              "<table border=\"1\" class=\"dataframe\">\n",
              "  <thead>\n",
              "    <tr style=\"text-align: right;\">\n",
              "      <th></th>\n",
              "      <th>user_id</th>\n",
              "      <th>song_id</th>\n",
              "      <th>count</th>\n",
              "      <th>track_id</th>\n",
              "      <th>artist_name</th>\n",
              "      <th>title</th>\n",
              "      <th>mxm_artist</th>\n",
              "      <th>mxm_title</th>\n",
              "      <th>mxm_id</th>\n",
              "    </tr>\n",
              "  </thead>\n",
              "  <tbody>\n",
              "    <tr>\n",
              "      <th>0</th>\n",
              "      <td>b80344d063b5ccb3212f76538f3d9e43d87dca9e</td>\n",
              "      <td>SOAKIMP12A8C130995</td>\n",
              "      <td>1</td>\n",
              "      <td>TRIQAUQ128F42435AD</td>\n",
              "      <td>Jack Johnson</td>\n",
              "      <td>The Cove</td>\n",
              "      <td>Jack Johnson</td>\n",
              "      <td>The Cove</td>\n",
              "      <td>7232629.0</td>\n",
              "    </tr>\n",
              "    <tr>\n",
              "      <th>1</th>\n",
              "      <td>7c86176941718984fed11b7c0674ff04c029b480</td>\n",
              "      <td>SOAKIMP12A8C130995</td>\n",
              "      <td>1</td>\n",
              "      <td>TRIQAUQ128F42435AD</td>\n",
              "      <td>Jack Johnson</td>\n",
              "      <td>The Cove</td>\n",
              "      <td>Jack Johnson</td>\n",
              "      <td>The Cove</td>\n",
              "      <td>7232629.0</td>\n",
              "    </tr>\n",
              "    <tr>\n",
              "      <th>2</th>\n",
              "      <td>76235885b32c4e8c82760c340dc54f9b608d7d7e</td>\n",
              "      <td>SOAKIMP12A8C130995</td>\n",
              "      <td>3</td>\n",
              "      <td>TRIQAUQ128F42435AD</td>\n",
              "      <td>Jack Johnson</td>\n",
              "      <td>The Cove</td>\n",
              "      <td>Jack Johnson</td>\n",
              "      <td>The Cove</td>\n",
              "      <td>7232629.0</td>\n",
              "    </tr>\n",
              "    <tr>\n",
              "      <th>3</th>\n",
              "      <td>250c0fa2a77bc6695046e7c47882ecd85c42d748</td>\n",
              "      <td>SOAKIMP12A8C130995</td>\n",
              "      <td>1</td>\n",
              "      <td>TRIQAUQ128F42435AD</td>\n",
              "      <td>Jack Johnson</td>\n",
              "      <td>The Cove</td>\n",
              "      <td>Jack Johnson</td>\n",
              "      <td>The Cove</td>\n",
              "      <td>7232629.0</td>\n",
              "    </tr>\n",
              "    <tr>\n",
              "      <th>4</th>\n",
              "      <td>3f73f44560e822344b0fb7c6b463869743eb9860</td>\n",
              "      <td>SOAKIMP12A8C130995</td>\n",
              "      <td>6</td>\n",
              "      <td>TRIQAUQ128F42435AD</td>\n",
              "      <td>Jack Johnson</td>\n",
              "      <td>The Cove</td>\n",
              "      <td>Jack Johnson</td>\n",
              "      <td>The Cove</td>\n",
              "      <td>7232629.0</td>\n",
              "    </tr>\n",
              "  </tbody>\n",
              "</table>\n",
              "</div>"
            ],
            "text/plain": [
              "                                    user_id  ...     mxm_id\n",
              "0  b80344d063b5ccb3212f76538f3d9e43d87dca9e  ...  7232629.0\n",
              "1  7c86176941718984fed11b7c0674ff04c029b480  ...  7232629.0\n",
              "2  76235885b32c4e8c82760c340dc54f9b608d7d7e  ...  7232629.0\n",
              "3  250c0fa2a77bc6695046e7c47882ecd85c42d748  ...  7232629.0\n",
              "4  3f73f44560e822344b0fb7c6b463869743eb9860  ...  7232629.0\n",
              "\n",
              "[5 rows x 9 columns]"
            ]
          },
          "metadata": {
            "tags": []
          },
          "execution_count": 18
        }
      ]
    },
    {
      "cell_type": "code",
      "metadata": {
        "colab": {
          "base_uri": "https://localhost:8080/"
        },
        "id": "s7L5W9k2q_y0",
        "outputId": "aa43e33e-2b12-45bf-df49-1b0544950485"
      },
      "source": [
        "len(match_merge[\"song_id\"])"
      ],
      "execution_count": null,
      "outputs": [
        {
          "output_type": "execute_result",
          "data": {
            "text/plain": [
              "2086946"
            ]
          },
          "metadata": {
            "tags": []
          },
          "execution_count": 19
        }
      ]
    },
    {
      "cell_type": "code",
      "metadata": {
        "colab": {
          "base_uri": "https://localhost:8080/"
        },
        "id": "Ln20nzHwrFoO",
        "outputId": "1f473635-6964-4b83-a137-7fcf61b97550"
      },
      "source": [
        "match_merge.isna().sum()"
      ],
      "execution_count": null,
      "outputs": [
        {
          "output_type": "execute_result",
          "data": {
            "text/plain": [
              "user_id            0\n",
              "song_id            0\n",
              "count              0\n",
              "track_id           0\n",
              "artist_name        0\n",
              "title              0\n",
              "mxm_artist     79223\n",
              "mxm_title      79223\n",
              "mxm_id         79223\n",
              "dtype: int64"
            ]
          },
          "metadata": {
            "tags": []
          },
          "execution_count": 20
        }
      ]
    },
    {
      "cell_type": "code",
      "metadata": {
        "id": "OIyzyDc6tcuj"
      },
      "source": [
        "match_merge_1 = match_merge[[\"song_id\",\"track_id\",\"mxm_id\"]].drop_duplicates()"
      ],
      "execution_count": null,
      "outputs": []
    },
    {
      "cell_type": "code",
      "metadata": {
        "id": "h4tHPcPXudjr"
      },
      "source": [
        "match_merge_1.reset_index(drop=True,inplace=True)"
      ],
      "execution_count": null,
      "outputs": []
    },
    {
      "cell_type": "code",
      "metadata": {
        "id": "YbukdgXOue5h"
      },
      "source": [
        "match_merge_1.to_csv(\"/content/drive/MyDrive/song_lyrics/match_csv_final.csv\")"
      ],
      "execution_count": null,
      "outputs": []
    },
    {
      "cell_type": "code",
      "metadata": {
        "id": "jAtBrUR3uy2h"
      },
      "source": [
        "match_merge =match_merge[[\"user_id\",\"track_id\",\"count\"]]\n",
        "match_merge.to_csv(\"/content/drive/MyDrive/song_lyrics/listening_history.csv\")"
      ],
      "execution_count": null,
      "outputs": []
    },
    {
      "cell_type": "code",
      "metadata": {
        "colab": {
          "base_uri": "https://localhost:8080/",
          "height": 204
        },
        "id": "CxQwYh56vOXr",
        "outputId": "6504d63f-39e2-4d8c-80ab-9df62b901a43"
      },
      "source": [
        "match_merge.head()"
      ],
      "execution_count": null,
      "outputs": [
        {
          "output_type": "execute_result",
          "data": {
            "text/html": [
              "<div>\n",
              "<style scoped>\n",
              "    .dataframe tbody tr th:only-of-type {\n",
              "        vertical-align: middle;\n",
              "    }\n",
              "\n",
              "    .dataframe tbody tr th {\n",
              "        vertical-align: top;\n",
              "    }\n",
              "\n",
              "    .dataframe thead th {\n",
              "        text-align: right;\n",
              "    }\n",
              "</style>\n",
              "<table border=\"1\" class=\"dataframe\">\n",
              "  <thead>\n",
              "    <tr style=\"text-align: right;\">\n",
              "      <th></th>\n",
              "      <th>user_id</th>\n",
              "      <th>track_id</th>\n",
              "      <th>count</th>\n",
              "    </tr>\n",
              "  </thead>\n",
              "  <tbody>\n",
              "    <tr>\n",
              "      <th>0</th>\n",
              "      <td>b80344d063b5ccb3212f76538f3d9e43d87dca9e</td>\n",
              "      <td>TRIQAUQ128F42435AD</td>\n",
              "      <td>1</td>\n",
              "    </tr>\n",
              "    <tr>\n",
              "      <th>1</th>\n",
              "      <td>7c86176941718984fed11b7c0674ff04c029b480</td>\n",
              "      <td>TRIQAUQ128F42435AD</td>\n",
              "      <td>1</td>\n",
              "    </tr>\n",
              "    <tr>\n",
              "      <th>2</th>\n",
              "      <td>76235885b32c4e8c82760c340dc54f9b608d7d7e</td>\n",
              "      <td>TRIQAUQ128F42435AD</td>\n",
              "      <td>3</td>\n",
              "    </tr>\n",
              "    <tr>\n",
              "      <th>3</th>\n",
              "      <td>250c0fa2a77bc6695046e7c47882ecd85c42d748</td>\n",
              "      <td>TRIQAUQ128F42435AD</td>\n",
              "      <td>1</td>\n",
              "    </tr>\n",
              "    <tr>\n",
              "      <th>4</th>\n",
              "      <td>3f73f44560e822344b0fb7c6b463869743eb9860</td>\n",
              "      <td>TRIQAUQ128F42435AD</td>\n",
              "      <td>6</td>\n",
              "    </tr>\n",
              "  </tbody>\n",
              "</table>\n",
              "</div>"
            ],
            "text/plain": [
              "                                    user_id            track_id  count\n",
              "0  b80344d063b5ccb3212f76538f3d9e43d87dca9e  TRIQAUQ128F42435AD      1\n",
              "1  7c86176941718984fed11b7c0674ff04c029b480  TRIQAUQ128F42435AD      1\n",
              "2  76235885b32c4e8c82760c340dc54f9b608d7d7e  TRIQAUQ128F42435AD      3\n",
              "3  250c0fa2a77bc6695046e7c47882ecd85c42d748  TRIQAUQ128F42435AD      1\n",
              "4  3f73f44560e822344b0fb7c6b463869743eb9860  TRIQAUQ128F42435AD      6"
            ]
          },
          "metadata": {
            "tags": []
          },
          "execution_count": 25
        }
      ]
    },
    {
      "cell_type": "code",
      "metadata": {
        "id": "_8HoqBfRvRXD"
      },
      "source": [
        "match_data = pd.read_csv(\"/content/drive/MyDrive/song_lyrics/match_csv_final.csv\")"
      ],
      "execution_count": null,
      "outputs": []
    },
    {
      "cell_type": "code",
      "metadata": {
        "colab": {
          "base_uri": "https://localhost:8080/",
          "height": 204
        },
        "id": "LnF-m88yvgJ4",
        "outputId": "94750960-2041-4f67-ed22-b4771d122859"
      },
      "source": [
        "match_data =match_data.loc[:, ~match_data.columns.str.contains('^Unnamed')]\n",
        "match_data.head()"
      ],
      "execution_count": null,
      "outputs": [
        {
          "output_type": "execute_result",
          "data": {
            "text/html": [
              "<div>\n",
              "<style scoped>\n",
              "    .dataframe tbody tr th:only-of-type {\n",
              "        vertical-align: middle;\n",
              "    }\n",
              "\n",
              "    .dataframe tbody tr th {\n",
              "        vertical-align: top;\n",
              "    }\n",
              "\n",
              "    .dataframe thead th {\n",
              "        text-align: right;\n",
              "    }\n",
              "</style>\n",
              "<table border=\"1\" class=\"dataframe\">\n",
              "  <thead>\n",
              "    <tr style=\"text-align: right;\">\n",
              "      <th></th>\n",
              "      <th>song_id</th>\n",
              "      <th>track_id</th>\n",
              "      <th>mxm_id</th>\n",
              "    </tr>\n",
              "  </thead>\n",
              "  <tbody>\n",
              "    <tr>\n",
              "      <th>0</th>\n",
              "      <td>SOAKIMP12A8C130995</td>\n",
              "      <td>TRIQAUQ128F42435AD</td>\n",
              "      <td>7232629.0</td>\n",
              "    </tr>\n",
              "    <tr>\n",
              "      <th>1</th>\n",
              "      <td>SOBBMDR12A8C13253B</td>\n",
              "      <td>TRMHBXZ128F4238406</td>\n",
              "      <td>4521308.0</td>\n",
              "    </tr>\n",
              "    <tr>\n",
              "      <th>2</th>\n",
              "      <td>SOBXHDL12A81C204C0</td>\n",
              "      <td>TRHNCIR128F42334A5</td>\n",
              "      <td>6445221.0</td>\n",
              "    </tr>\n",
              "    <tr>\n",
              "      <th>3</th>\n",
              "      <td>SOBXHDL12A81C204C0</td>\n",
              "      <td>TRUATNS128F423457D</td>\n",
              "      <td>6672281.0</td>\n",
              "    </tr>\n",
              "    <tr>\n",
              "      <th>4</th>\n",
              "      <td>SOBYHAJ12A6701BF1D</td>\n",
              "      <td>TRYBNIB128F428E704</td>\n",
              "      <td>4750416.0</td>\n",
              "    </tr>\n",
              "  </tbody>\n",
              "</table>\n",
              "</div>"
            ],
            "text/plain": [
              "              song_id            track_id     mxm_id\n",
              "0  SOAKIMP12A8C130995  TRIQAUQ128F42435AD  7232629.0\n",
              "1  SOBBMDR12A8C13253B  TRMHBXZ128F4238406  4521308.0\n",
              "2  SOBXHDL12A81C204C0  TRHNCIR128F42334A5  6445221.0\n",
              "3  SOBXHDL12A81C204C0  TRUATNS128F423457D  6672281.0\n",
              "4  SOBYHAJ12A6701BF1D  TRYBNIB128F428E704  4750416.0"
            ]
          },
          "metadata": {
            "tags": []
          },
          "execution_count": 27
        }
      ]
    },
    {
      "cell_type": "code",
      "metadata": {
        "id": "clJiVpTRvhI4"
      },
      "source": [
        "connection = sql.Connection(\"/content/drive/MyDrive/song_lyrics/DB/track_metadata.db\")\n",
        "meta_data = pd.read_sql_query(\"select * from songs\",con=connection)"
      ],
      "execution_count": null,
      "outputs": []
    },
    {
      "cell_type": "code",
      "metadata": {
        "colab": {
          "base_uri": "https://localhost:8080/",
          "height": 496
        },
        "id": "bfo1E_oA3jHV",
        "outputId": "deb34b88-07a5-468e-cd88-57c72e62d4d9"
      },
      "source": [
        "meta_data.head()"
      ],
      "execution_count": null,
      "outputs": [
        {
          "output_type": "execute_result",
          "data": {
            "text/html": [
              "<div>\n",
              "<style scoped>\n",
              "    .dataframe tbody tr th:only-of-type {\n",
              "        vertical-align: middle;\n",
              "    }\n",
              "\n",
              "    .dataframe tbody tr th {\n",
              "        vertical-align: top;\n",
              "    }\n",
              "\n",
              "    .dataframe thead th {\n",
              "        text-align: right;\n",
              "    }\n",
              "</style>\n",
              "<table border=\"1\" class=\"dataframe\">\n",
              "  <thead>\n",
              "    <tr style=\"text-align: right;\">\n",
              "      <th></th>\n",
              "      <th>track_id</th>\n",
              "      <th>title</th>\n",
              "      <th>song_id</th>\n",
              "      <th>release</th>\n",
              "      <th>artist_id</th>\n",
              "      <th>artist_mbid</th>\n",
              "      <th>artist_name</th>\n",
              "      <th>duration</th>\n",
              "      <th>artist_familiarity</th>\n",
              "      <th>artist_hotttnesss</th>\n",
              "      <th>year</th>\n",
              "      <th>track_7digitalid</th>\n",
              "      <th>shs_perf</th>\n",
              "      <th>shs_work</th>\n",
              "    </tr>\n",
              "  </thead>\n",
              "  <tbody>\n",
              "    <tr>\n",
              "      <th>0</th>\n",
              "      <td>TRMMMYQ128F932D901</td>\n",
              "      <td>Silent Night</td>\n",
              "      <td>SOQMMHC12AB0180CB8</td>\n",
              "      <td>Monster Ballads X-Mas</td>\n",
              "      <td>ARYZTJS1187B98C555</td>\n",
              "      <td>357ff05d-848a-44cf-b608-cb34b5701ae5</td>\n",
              "      <td>Faster Pussy cat</td>\n",
              "      <td>252.05506</td>\n",
              "      <td>0.649822</td>\n",
              "      <td>0.394032</td>\n",
              "      <td>2003</td>\n",
              "      <td>7032331</td>\n",
              "      <td>-1</td>\n",
              "      <td>0</td>\n",
              "    </tr>\n",
              "    <tr>\n",
              "      <th>1</th>\n",
              "      <td>TRMMMKD128F425225D</td>\n",
              "      <td>Tanssi vaan</td>\n",
              "      <td>SOVFVAK12A8C1350D9</td>\n",
              "      <td>Karkuteillä</td>\n",
              "      <td>ARMVN3U1187FB3A1EB</td>\n",
              "      <td>8d7ef530-a6fd-4f8f-b2e2-74aec765e0f9</td>\n",
              "      <td>Karkkiautomaatti</td>\n",
              "      <td>156.55138</td>\n",
              "      <td>0.439604</td>\n",
              "      <td>0.356992</td>\n",
              "      <td>1995</td>\n",
              "      <td>1514808</td>\n",
              "      <td>-1</td>\n",
              "      <td>0</td>\n",
              "    </tr>\n",
              "    <tr>\n",
              "      <th>2</th>\n",
              "      <td>TRMMMRX128F93187D9</td>\n",
              "      <td>No One Could Ever</td>\n",
              "      <td>SOGTUKN12AB017F4F1</td>\n",
              "      <td>Butter</td>\n",
              "      <td>ARGEKB01187FB50750</td>\n",
              "      <td>3d403d44-36ce-465c-ad43-ae877e65adc4</td>\n",
              "      <td>Hudson Mohawke</td>\n",
              "      <td>138.97098</td>\n",
              "      <td>0.643681</td>\n",
              "      <td>0.437504</td>\n",
              "      <td>2006</td>\n",
              "      <td>6945353</td>\n",
              "      <td>-1</td>\n",
              "      <td>0</td>\n",
              "    </tr>\n",
              "    <tr>\n",
              "      <th>3</th>\n",
              "      <td>TRMMMCH128F425532C</td>\n",
              "      <td>Si Vos Querés</td>\n",
              "      <td>SOBNYVR12A8C13558C</td>\n",
              "      <td>De Culo</td>\n",
              "      <td>ARNWYLR1187B9B2F9C</td>\n",
              "      <td>12be7648-7094-495f-90e6-df4189d68615</td>\n",
              "      <td>Yerba Brava</td>\n",
              "      <td>145.05751</td>\n",
              "      <td>0.448501</td>\n",
              "      <td>0.372349</td>\n",
              "      <td>2003</td>\n",
              "      <td>2168257</td>\n",
              "      <td>-1</td>\n",
              "      <td>0</td>\n",
              "    </tr>\n",
              "    <tr>\n",
              "      <th>4</th>\n",
              "      <td>TRMMMWA128F426B589</td>\n",
              "      <td>Tangle Of Aspens</td>\n",
              "      <td>SOHSBXH12A8C13B0DF</td>\n",
              "      <td>Rene Ablaze Presents Winter Sessions</td>\n",
              "      <td>AREQDTE1269FB37231</td>\n",
              "      <td></td>\n",
              "      <td>Der Mystic</td>\n",
              "      <td>514.29832</td>\n",
              "      <td>0.000000</td>\n",
              "      <td>0.000000</td>\n",
              "      <td>0</td>\n",
              "      <td>2264873</td>\n",
              "      <td>-1</td>\n",
              "      <td>0</td>\n",
              "    </tr>\n",
              "  </tbody>\n",
              "</table>\n",
              "</div>"
            ],
            "text/plain": [
              "             track_id              title  ... shs_perf shs_work\n",
              "0  TRMMMYQ128F932D901       Silent Night  ...       -1        0\n",
              "1  TRMMMKD128F425225D        Tanssi vaan  ...       -1        0\n",
              "2  TRMMMRX128F93187D9  No One Could Ever  ...       -1        0\n",
              "3  TRMMMCH128F425532C      Si Vos Querés  ...       -1        0\n",
              "4  TRMMMWA128F426B589   Tangle Of Aspens  ...       -1        0\n",
              "\n",
              "[5 rows x 14 columns]"
            ]
          },
          "metadata": {
            "tags": []
          },
          "execution_count": 29
        }
      ]
    },
    {
      "cell_type": "code",
      "metadata": {
        "id": "Scg247Op3tyo"
      },
      "source": [
        "meta_data = meta_data[meta_data.track_id.isin(match_data.track_id)].reset_index(drop=True)\n"
      ],
      "execution_count": null,
      "outputs": []
    },
    {
      "cell_type": "code",
      "metadata": {
        "colab": {
          "base_uri": "https://localhost:8080/",
          "height": 530
        },
        "id": "B1Mw4fHD32nS",
        "outputId": "a8fd5d1f-dfae-41cf-a412-4f6870472eb3"
      },
      "source": [
        "meta_data = meta_data.iloc[:,:-3]\n",
        "meta_data.head()\n"
      ],
      "execution_count": null,
      "outputs": [
        {
          "output_type": "execute_result",
          "data": {
            "text/html": [
              "<div>\n",
              "<style scoped>\n",
              "    .dataframe tbody tr th:only-of-type {\n",
              "        vertical-align: middle;\n",
              "    }\n",
              "\n",
              "    .dataframe tbody tr th {\n",
              "        vertical-align: top;\n",
              "    }\n",
              "\n",
              "    .dataframe thead th {\n",
              "        text-align: right;\n",
              "    }\n",
              "</style>\n",
              "<table border=\"1\" class=\"dataframe\">\n",
              "  <thead>\n",
              "    <tr style=\"text-align: right;\">\n",
              "      <th></th>\n",
              "      <th>track_id</th>\n",
              "      <th>title</th>\n",
              "      <th>song_id</th>\n",
              "      <th>release</th>\n",
              "      <th>artist_id</th>\n",
              "      <th>artist_mbid</th>\n",
              "      <th>artist_name</th>\n",
              "      <th>duration</th>\n",
              "      <th>artist_familiarity</th>\n",
              "      <th>artist_hotttnesss</th>\n",
              "      <th>year</th>\n",
              "    </tr>\n",
              "  </thead>\n",
              "  <tbody>\n",
              "    <tr>\n",
              "      <th>0</th>\n",
              "      <td>TRMMCDR128F423AB03</td>\n",
              "      <td>Anyone Else But You</td>\n",
              "      <td>SOSZNRJ12A8AE46E38</td>\n",
              "      <td>Juno - Music From The Motion Picture</td>\n",
              "      <td>AR62GN71187B9AAD0C</td>\n",
              "      <td>70fada2a-5b8c-4988-a2d7-79576d7f6daf</td>\n",
              "      <td>Michael Cera &amp; Ellen Page</td>\n",
              "      <td>116.71465</td>\n",
              "      <td>0.540441</td>\n",
              "      <td>0.464981</td>\n",
              "      <td>2007</td>\n",
              "    </tr>\n",
              "    <tr>\n",
              "      <th>1</th>\n",
              "      <td>TRMMFSL128F4234583</td>\n",
              "      <td>Drunk and Hot Girls</td>\n",
              "      <td>SOGKGLB12A81C22AFA</td>\n",
              "      <td>Graduation</td>\n",
              "      <td>ARRH63Y1187FB47783</td>\n",
              "      <td>164f0d73-1234-4e2c-8743-d77bf2191051</td>\n",
              "      <td>Kanye West / Mos Def</td>\n",
              "      <td>313.28608</td>\n",
              "      <td>0.877214</td>\n",
              "      <td>1.082503</td>\n",
              "      <td>2007</td>\n",
              "    </tr>\n",
              "    <tr>\n",
              "      <th>2</th>\n",
              "      <td>TRMMQSP128F1486267</td>\n",
              "      <td>Until The Day I Die (Album Version)</td>\n",
              "      <td>SOWZDNH12A6D4F7237</td>\n",
              "      <td>Page Avenue</td>\n",
              "      <td>ARF6ZTO1187FB3684F</td>\n",
              "      <td>e2c3c508-f0ab-49af-92c9-a81d66d67405</td>\n",
              "      <td>Story Of The Year</td>\n",
              "      <td>235.78077</td>\n",
              "      <td>0.806763</td>\n",
              "      <td>0.580095</td>\n",
              "      <td>2003</td>\n",
              "    </tr>\n",
              "    <tr>\n",
              "      <th>3</th>\n",
              "      <td>TRMMQOL128F9340687</td>\n",
              "      <td>Rewind (Demo)</td>\n",
              "      <td>SOQBGZD12AB0184341</td>\n",
              "      <td>Riot!</td>\n",
              "      <td>AR4OU721187FB4549D</td>\n",
              "      <td>728ea90d-279b-4201-a8c4-597830883150</td>\n",
              "      <td>Paramore</td>\n",
              "      <td>226.95138</td>\n",
              "      <td>0.951488</td>\n",
              "      <td>0.658925</td>\n",
              "      <td>0</td>\n",
              "    </tr>\n",
              "    <tr>\n",
              "      <th>4</th>\n",
              "      <td>TRMMZKU128F4296801</td>\n",
              "      <td>Never Knew Love</td>\n",
              "      <td>SOTPWHK12A8AE46DC8</td>\n",
              "      <td>Love Songs</td>\n",
              "      <td>ARWPYQI1187FB4D55A</td>\n",
              "      <td>db92a151-1ac2-438b-bc43-b82e149ddd50</td>\n",
              "      <td>Rick Astley</td>\n",
              "      <td>185.67791</td>\n",
              "      <td>0.754918</td>\n",
              "      <td>0.507464</td>\n",
              "      <td>1991</td>\n",
              "    </tr>\n",
              "  </tbody>\n",
              "</table>\n",
              "</div>"
            ],
            "text/plain": [
              "             track_id  ...  year\n",
              "0  TRMMCDR128F423AB03  ...  2007\n",
              "1  TRMMFSL128F4234583  ...  2007\n",
              "2  TRMMQSP128F1486267  ...  2003\n",
              "3  TRMMQOL128F9340687  ...     0\n",
              "4  TRMMZKU128F4296801  ...  1991\n",
              "\n",
              "[5 rows x 11 columns]"
            ]
          },
          "metadata": {
            "tags": []
          },
          "execution_count": 31
        }
      ]
    },
    {
      "cell_type": "code",
      "metadata": {
        "id": "Z_n6b3c1xwPs"
      },
      "source": [
        "meta_data.to_csv(\"/content/drive/MyDrive/meta_data.csv\")"
      ],
      "execution_count": null,
      "outputs": []
    },
    {
      "cell_type": "code",
      "metadata": {
        "id": "LOS3odww4pb6"
      },
      "source": [
        "#Artist\n",
        "artist_data = pd.read_sql_query(\"select * from artist_mbtag\",con =sql.Connection(\"/content/drive/MyDrive/song_lyrics/DB/artist_term.db\"))\n"
      ],
      "execution_count": null,
      "outputs": []
    },
    {
      "cell_type": "code",
      "metadata": {
        "colab": {
          "base_uri": "https://localhost:8080/",
          "height": 204
        },
        "id": "aezbYRWu5JdW",
        "outputId": "0833e983-8031-471a-e120-37a5e1b59084"
      },
      "source": [
        "artist_data.head()"
      ],
      "execution_count": null,
      "outputs": [
        {
          "output_type": "execute_result",
          "data": {
            "text/html": [
              "<div>\n",
              "<style scoped>\n",
              "    .dataframe tbody tr th:only-of-type {\n",
              "        vertical-align: middle;\n",
              "    }\n",
              "\n",
              "    .dataframe tbody tr th {\n",
              "        vertical-align: top;\n",
              "    }\n",
              "\n",
              "    .dataframe thead th {\n",
              "        text-align: right;\n",
              "    }\n",
              "</style>\n",
              "<table border=\"1\" class=\"dataframe\">\n",
              "  <thead>\n",
              "    <tr style=\"text-align: right;\">\n",
              "      <th></th>\n",
              "      <th>artist_id</th>\n",
              "      <th>mbtag</th>\n",
              "    </tr>\n",
              "  </thead>\n",
              "  <tbody>\n",
              "    <tr>\n",
              "      <th>0</th>\n",
              "      <td>AR002UA1187B9A637D</td>\n",
              "      <td>uk</td>\n",
              "    </tr>\n",
              "    <tr>\n",
              "      <th>1</th>\n",
              "      <td>AR002UA1187B9A637D</td>\n",
              "      <td>rock</td>\n",
              "    </tr>\n",
              "    <tr>\n",
              "      <th>2</th>\n",
              "      <td>AR002UA1187B9A637D</td>\n",
              "      <td>garage rock</td>\n",
              "    </tr>\n",
              "    <tr>\n",
              "      <th>3</th>\n",
              "      <td>AR006821187FB5192B</td>\n",
              "      <td>bass</td>\n",
              "    </tr>\n",
              "    <tr>\n",
              "      <th>4</th>\n",
              "      <td>AR00A6H1187FB5402A</td>\n",
              "      <td>detroit</td>\n",
              "    </tr>\n",
              "  </tbody>\n",
              "</table>\n",
              "</div>"
            ],
            "text/plain": [
              "            artist_id        mbtag\n",
              "0  AR002UA1187B9A637D           uk\n",
              "1  AR002UA1187B9A637D         rock\n",
              "2  AR002UA1187B9A637D  garage rock\n",
              "3  AR006821187FB5192B         bass\n",
              "4  AR00A6H1187FB5402A      detroit"
            ]
          },
          "metadata": {
            "tags": []
          },
          "execution_count": 34
        }
      ]
    },
    {
      "cell_type": "code",
      "metadata": {
        "id": "Mq5_JP1G5kci"
      },
      "source": [
        "connection = sql.Connection(\"/content/drive/MyDrive/song_lyrics/DB/mxm_dataset.db\")\n",
        "lyrics_data = pd.read_sql_query(\"select * from lyrics\",con=connection)"
      ],
      "execution_count": null,
      "outputs": []
    },
    {
      "cell_type": "code",
      "metadata": {
        "id": "LnjSWzlMKJev"
      },
      "source": [
        "lyrics_data = lyrics_data[lyrics_data.track_id.isin(match_data.track_id)].reset_index(drop=True)"
      ],
      "execution_count": null,
      "outputs": []
    },
    {
      "cell_type": "code",
      "metadata": {
        "id": "x8__dUdu6P6F"
      },
      "source": [
        "words_data = pd.read_sql_query(\"select * from words\",con=connection)"
      ],
      "execution_count": null,
      "outputs": []
    },
    {
      "cell_type": "code",
      "metadata": {
        "colab": {
          "base_uri": "https://localhost:8080/",
          "height": 204
        },
        "id": "SqNYV7YA7U8B",
        "outputId": "21bb2a00-0aee-418f-8708-a07203adfb8d"
      },
      "source": [
        "lyrics_data.head()"
      ],
      "execution_count": null,
      "outputs": [
        {
          "output_type": "execute_result",
          "data": {
            "text/html": [
              "<div>\n",
              "<style scoped>\n",
              "    .dataframe tbody tr th:only-of-type {\n",
              "        vertical-align: middle;\n",
              "    }\n",
              "\n",
              "    .dataframe tbody tr th {\n",
              "        vertical-align: top;\n",
              "    }\n",
              "\n",
              "    .dataframe thead th {\n",
              "        text-align: right;\n",
              "    }\n",
              "</style>\n",
              "<table border=\"1\" class=\"dataframe\">\n",
              "  <thead>\n",
              "    <tr style=\"text-align: right;\">\n",
              "      <th></th>\n",
              "      <th>track_id</th>\n",
              "      <th>mxm_tid</th>\n",
              "      <th>word</th>\n",
              "      <th>count</th>\n",
              "      <th>is_test</th>\n",
              "    </tr>\n",
              "  </thead>\n",
              "  <tbody>\n",
              "    <tr>\n",
              "      <th>0</th>\n",
              "      <td>TRAABJS128F9325C99</td>\n",
              "      <td>5516210</td>\n",
              "      <td>i</td>\n",
              "      <td>5</td>\n",
              "      <td>0</td>\n",
              "    </tr>\n",
              "    <tr>\n",
              "      <th>1</th>\n",
              "      <td>TRAABJS128F9325C99</td>\n",
              "      <td>5516210</td>\n",
              "      <td>the</td>\n",
              "      <td>3</td>\n",
              "      <td>0</td>\n",
              "    </tr>\n",
              "    <tr>\n",
              "      <th>2</th>\n",
              "      <td>TRAABJS128F9325C99</td>\n",
              "      <td>5516210</td>\n",
              "      <td>you</td>\n",
              "      <td>3</td>\n",
              "      <td>0</td>\n",
              "    </tr>\n",
              "    <tr>\n",
              "      <th>3</th>\n",
              "      <td>TRAABJS128F9325C99</td>\n",
              "      <td>5516210</td>\n",
              "      <td>to</td>\n",
              "      <td>3</td>\n",
              "      <td>0</td>\n",
              "    </tr>\n",
              "    <tr>\n",
              "      <th>4</th>\n",
              "      <td>TRAABJS128F9325C99</td>\n",
              "      <td>5516210</td>\n",
              "      <td>and</td>\n",
              "      <td>8</td>\n",
              "      <td>0</td>\n",
              "    </tr>\n",
              "  </tbody>\n",
              "</table>\n",
              "</div>"
            ],
            "text/plain": [
              "             track_id  mxm_tid word  count  is_test\n",
              "0  TRAABJS128F9325C99  5516210    i      5        0\n",
              "1  TRAABJS128F9325C99  5516210  the      3        0\n",
              "2  TRAABJS128F9325C99  5516210  you      3        0\n",
              "3  TRAABJS128F9325C99  5516210   to      3        0\n",
              "4  TRAABJS128F9325C99  5516210  and      8        0"
            ]
          },
          "metadata": {
            "tags": []
          },
          "execution_count": 38
        }
      ]
    },
    {
      "cell_type": "code",
      "metadata": {
        "colab": {
          "base_uri": "https://localhost:8080/",
          "height": 204
        },
        "id": "sHembIii7gAt",
        "outputId": "4e3ecbdc-5bc1-4594-913d-1962c95f5dfd"
      },
      "source": [
        "words_data.head()"
      ],
      "execution_count": null,
      "outputs": [
        {
          "output_type": "execute_result",
          "data": {
            "text/html": [
              "<div>\n",
              "<style scoped>\n",
              "    .dataframe tbody tr th:only-of-type {\n",
              "        vertical-align: middle;\n",
              "    }\n",
              "\n",
              "    .dataframe tbody tr th {\n",
              "        vertical-align: top;\n",
              "    }\n",
              "\n",
              "    .dataframe thead th {\n",
              "        text-align: right;\n",
              "    }\n",
              "</style>\n",
              "<table border=\"1\" class=\"dataframe\">\n",
              "  <thead>\n",
              "    <tr style=\"text-align: right;\">\n",
              "      <th></th>\n",
              "      <th>word</th>\n",
              "    </tr>\n",
              "  </thead>\n",
              "  <tbody>\n",
              "    <tr>\n",
              "      <th>0</th>\n",
              "      <td>i</td>\n",
              "    </tr>\n",
              "    <tr>\n",
              "      <th>1</th>\n",
              "      <td>the</td>\n",
              "    </tr>\n",
              "    <tr>\n",
              "      <th>2</th>\n",
              "      <td>you</td>\n",
              "    </tr>\n",
              "    <tr>\n",
              "      <th>3</th>\n",
              "      <td>to</td>\n",
              "    </tr>\n",
              "    <tr>\n",
              "      <th>4</th>\n",
              "      <td>and</td>\n",
              "    </tr>\n",
              "  </tbody>\n",
              "</table>\n",
              "</div>"
            ],
            "text/plain": [
              "  word\n",
              "0    i\n",
              "1  the\n",
              "2  you\n",
              "3   to\n",
              "4  and"
            ]
          },
          "metadata": {
            "tags": []
          },
          "execution_count": 39
        }
      ]
    },
    {
      "cell_type": "code",
      "metadata": {
        "id": "IKFVKxqt7iov"
      },
      "source": [
        "lyrics_data.to_csv(\"/content/drive/MyDrive/lyrics_data.csv\")\n",
        "words_data.to_csv(\"/content/drive/MyDrive/words_data.csv\")"
      ],
      "execution_count": null,
      "outputs": []
    },
    {
      "cell_type": "code",
      "metadata": {
        "id": "d3nSzOWz70eF"
      },
      "source": [
        "lyrics_data = pd.read_csv(\"/content/drive/MyDrive/lyrics_data.csv\")\n",
        "words_data = pd.read_csv(\"/content/drive/MyDrive/words_data.csv\")"
      ],
      "execution_count": null,
      "outputs": []
    },
    {
      "cell_type": "code",
      "metadata": {
        "colab": {
          "base_uri": "https://localhost:8080/",
          "height": 204
        },
        "id": "wMBaSHzZ7--I",
        "outputId": "f929040e-abff-4739-f5a2-e38d21440da4"
      },
      "source": [
        "words_data =words_data.loc[:, ~words_data.columns.str.contains('^Unnamed')]\n",
        "words_data.head()"
      ],
      "execution_count": null,
      "outputs": [
        {
          "output_type": "execute_result",
          "data": {
            "text/html": [
              "<div>\n",
              "<style scoped>\n",
              "    .dataframe tbody tr th:only-of-type {\n",
              "        vertical-align: middle;\n",
              "    }\n",
              "\n",
              "    .dataframe tbody tr th {\n",
              "        vertical-align: top;\n",
              "    }\n",
              "\n",
              "    .dataframe thead th {\n",
              "        text-align: right;\n",
              "    }\n",
              "</style>\n",
              "<table border=\"1\" class=\"dataframe\">\n",
              "  <thead>\n",
              "    <tr style=\"text-align: right;\">\n",
              "      <th></th>\n",
              "      <th>word</th>\n",
              "    </tr>\n",
              "  </thead>\n",
              "  <tbody>\n",
              "    <tr>\n",
              "      <th>0</th>\n",
              "      <td>i</td>\n",
              "    </tr>\n",
              "    <tr>\n",
              "      <th>1</th>\n",
              "      <td>the</td>\n",
              "    </tr>\n",
              "    <tr>\n",
              "      <th>2</th>\n",
              "      <td>you</td>\n",
              "    </tr>\n",
              "    <tr>\n",
              "      <th>3</th>\n",
              "      <td>to</td>\n",
              "    </tr>\n",
              "    <tr>\n",
              "      <th>4</th>\n",
              "      <td>and</td>\n",
              "    </tr>\n",
              "  </tbody>\n",
              "</table>\n",
              "</div>"
            ],
            "text/plain": [
              "  word\n",
              "0    i\n",
              "1  the\n",
              "2  you\n",
              "3   to\n",
              "4  and"
            ]
          },
          "metadata": {
            "tags": []
          },
          "execution_count": 42
        }
      ]
    },
    {
      "cell_type": "code",
      "metadata": {
        "colab": {
          "base_uri": "https://localhost:8080/",
          "height": 204
        },
        "id": "5ZsPWQxYGarr",
        "outputId": "edf7291b-8319-49ed-ca53-74d3d435dc89"
      },
      "source": [
        "lyrics_data =lyrics_data.loc[:, ~lyrics_data.columns.str.contains('^Unnamed')]\n",
        "lyrics_data.head()"
      ],
      "execution_count": null,
      "outputs": [
        {
          "output_type": "execute_result",
          "data": {
            "text/html": [
              "<div>\n",
              "<style scoped>\n",
              "    .dataframe tbody tr th:only-of-type {\n",
              "        vertical-align: middle;\n",
              "    }\n",
              "\n",
              "    .dataframe tbody tr th {\n",
              "        vertical-align: top;\n",
              "    }\n",
              "\n",
              "    .dataframe thead th {\n",
              "        text-align: right;\n",
              "    }\n",
              "</style>\n",
              "<table border=\"1\" class=\"dataframe\">\n",
              "  <thead>\n",
              "    <tr style=\"text-align: right;\">\n",
              "      <th></th>\n",
              "      <th>track_id</th>\n",
              "      <th>mxm_tid</th>\n",
              "      <th>word</th>\n",
              "      <th>count</th>\n",
              "      <th>is_test</th>\n",
              "    </tr>\n",
              "  </thead>\n",
              "  <tbody>\n",
              "    <tr>\n",
              "      <th>0</th>\n",
              "      <td>TRAABJS128F9325C99</td>\n",
              "      <td>5516210</td>\n",
              "      <td>i</td>\n",
              "      <td>5</td>\n",
              "      <td>0</td>\n",
              "    </tr>\n",
              "    <tr>\n",
              "      <th>1</th>\n",
              "      <td>TRAABJS128F9325C99</td>\n",
              "      <td>5516210</td>\n",
              "      <td>the</td>\n",
              "      <td>3</td>\n",
              "      <td>0</td>\n",
              "    </tr>\n",
              "    <tr>\n",
              "      <th>2</th>\n",
              "      <td>TRAABJS128F9325C99</td>\n",
              "      <td>5516210</td>\n",
              "      <td>you</td>\n",
              "      <td>3</td>\n",
              "      <td>0</td>\n",
              "    </tr>\n",
              "    <tr>\n",
              "      <th>3</th>\n",
              "      <td>TRAABJS128F9325C99</td>\n",
              "      <td>5516210</td>\n",
              "      <td>to</td>\n",
              "      <td>3</td>\n",
              "      <td>0</td>\n",
              "    </tr>\n",
              "    <tr>\n",
              "      <th>4</th>\n",
              "      <td>TRAABJS128F9325C99</td>\n",
              "      <td>5516210</td>\n",
              "      <td>and</td>\n",
              "      <td>8</td>\n",
              "      <td>0</td>\n",
              "    </tr>\n",
              "  </tbody>\n",
              "</table>\n",
              "</div>"
            ],
            "text/plain": [
              "             track_id  mxm_tid word  count  is_test\n",
              "0  TRAABJS128F9325C99  5516210    i      5        0\n",
              "1  TRAABJS128F9325C99  5516210  the      3        0\n",
              "2  TRAABJS128F9325C99  5516210  you      3        0\n",
              "3  TRAABJS128F9325C99  5516210   to      3        0\n",
              "4  TRAABJS128F9325C99  5516210  and      8        0"
            ]
          },
          "metadata": {
            "tags": []
          },
          "execution_count": 43
        }
      ]
    },
    {
      "cell_type": "code",
      "metadata": {
        "id": "LQwfR6PEICh9"
      },
      "source": [
        "lyrics_data['words'] = lyrics_data.apply(lambda x: (x['word']+' ') * x['count'], axis=1)"
      ],
      "execution_count": null,
      "outputs": []
    },
    {
      "cell_type": "code",
      "metadata": {
        "id": "umfVN9MVIvHN"
      },
      "source": [
        "merge_data = lyrics_data[['track_id','words']].groupby('track_id')['words'].apply(lambda x: ' '.join(x)).reset_index(name='lyric')"
      ],
      "execution_count": null,
      "outputs": []
    },
    {
      "cell_type": "code",
      "metadata": {
        "colab": {
          "base_uri": "https://localhost:8080/",
          "height": 204
        },
        "id": "X67lFVgCK27F",
        "outputId": "2c97f8e0-3e28-4c98-f968-52c4dec4467d"
      },
      "source": [
        "merge_data.head()"
      ],
      "execution_count": null,
      "outputs": [
        {
          "output_type": "execute_result",
          "data": {
            "text/html": [
              "<div>\n",
              "<style scoped>\n",
              "    .dataframe tbody tr th:only-of-type {\n",
              "        vertical-align: middle;\n",
              "    }\n",
              "\n",
              "    .dataframe tbody tr th {\n",
              "        vertical-align: top;\n",
              "    }\n",
              "\n",
              "    .dataframe thead th {\n",
              "        text-align: right;\n",
              "    }\n",
              "</style>\n",
              "<table border=\"1\" class=\"dataframe\">\n",
              "  <thead>\n",
              "    <tr style=\"text-align: right;\">\n",
              "      <th></th>\n",
              "      <th>track_id</th>\n",
              "      <th>lyric</th>\n",
              "    </tr>\n",
              "  </thead>\n",
              "  <tbody>\n",
              "    <tr>\n",
              "      <th>0</th>\n",
              "      <td>TRAABJS128F9325C99</td>\n",
              "      <td>i i i i i  the the the  you you you  to to to ...</td>\n",
              "    </tr>\n",
              "    <tr>\n",
              "      <th>1</th>\n",
              "      <td>TRAACIE128F428495B</td>\n",
              "      <td>i i  the the  you you you you you you you you ...</td>\n",
              "    </tr>\n",
              "    <tr>\n",
              "      <th>2</th>\n",
              "      <td>TRAACPH12903CF5F14</td>\n",
              "      <td>the  you  and and and  a  in in  is  your  we ...</td>\n",
              "    </tr>\n",
              "    <tr>\n",
              "      <th>3</th>\n",
              "      <td>TRAADKW128E079503A</td>\n",
              "      <td>i i i i i i i i i i i i i i i i i i i i i i i ...</td>\n",
              "    </tr>\n",
              "    <tr>\n",
              "      <th>4</th>\n",
              "      <td>TRAADQL128F427D281</td>\n",
              "      <td>i i i i i i i i i i i i i i i i i i i i i i i ...</td>\n",
              "    </tr>\n",
              "  </tbody>\n",
              "</table>\n",
              "</div>"
            ],
            "text/plain": [
              "             track_id                                              lyric\n",
              "0  TRAABJS128F9325C99  i i i i i  the the the  you you you  to to to ...\n",
              "1  TRAACIE128F428495B  i i  the the  you you you you you you you you ...\n",
              "2  TRAACPH12903CF5F14  the  you  and and and  a  in in  is  your  we ...\n",
              "3  TRAADKW128E079503A  i i i i i i i i i i i i i i i i i i i i i i i ...\n",
              "4  TRAADQL128F427D281  i i i i i i i i i i i i i i i i i i i i i i i ..."
            ]
          },
          "metadata": {
            "tags": []
          },
          "execution_count": 46
        }
      ]
    },
    {
      "cell_type": "code",
      "metadata": {
        "id": "jbOp2zp_K4SV"
      },
      "source": [
        "import re \n",
        "import nltk\n",
        "from nltk.corpus import stopwords\n",
        "from nltk.tokenize import word_tokenize\n",
        "from wordcloud import WordCloud,STOPWORDS\n",
        "import matplotlib.pyplot as plt\n",
        "import seaborn as sns"
      ],
      "execution_count": null,
      "outputs": []
    },
    {
      "cell_type": "code",
      "metadata": {
        "colab": {
          "base_uri": "https://localhost:8080/"
        },
        "id": "Qf6UCJ-RMsGE",
        "outputId": "de498f24-be07-41c1-d8b1-184c639ee9cf"
      },
      "source": [
        "nltk.download(\"stopwords\")\n",
        "nltk.download('punkt')\n",
        "nltk.download('wordnet')"
      ],
      "execution_count": null,
      "outputs": [
        {
          "output_type": "stream",
          "text": [
            "[nltk_data] Downloading package stopwords to /root/nltk_data...\n",
            "[nltk_data]   Unzipping corpora/stopwords.zip.\n",
            "[nltk_data] Downloading package punkt to /root/nltk_data...\n",
            "[nltk_data]   Unzipping tokenizers/punkt.zip.\n",
            "[nltk_data] Downloading package wordnet to /root/nltk_data...\n",
            "[nltk_data]   Unzipping corpora/wordnet.zip.\n"
          ],
          "name": "stdout"
        },
        {
          "output_type": "execute_result",
          "data": {
            "text/plain": [
              "True"
            ]
          },
          "metadata": {
            "tags": []
          },
          "execution_count": 48
        }
      ]
    },
    {
      "cell_type": "code",
      "metadata": {
        "id": "zUdHP0m3K9gX"
      },
      "source": [
        "\n",
        "def text_cleaning(text):\n",
        "  # text = re.sub('^<[^>]+>',text, '')\n",
        "  # print(text)\n",
        "  lemm =nltk.WordNetLemmatizer()\n",
        "  stop_words = set(stopwords.words(\"english\"))\n",
        "  word_tokens = word_tokenize(text)\n",
        "  # print(word_tokens)\n",
        "  filtered_text = [word.lower() for word in word_tokens if word not in stop_words]\n",
        "  # print(filtered_text)\n",
        "  text = [lemm.lemmatize(word) for word in filtered_text ]\n",
        "  # print(text)\n",
        "  text = \" \".join(word for word in text)\n",
        "  return text"
      ],
      "execution_count": null,
      "outputs": []
    },
    {
      "cell_type": "code",
      "metadata": {
        "id": "FHqmgwnrMqz5"
      },
      "source": [
        "merge_data[\"lyric\"] = merge_data[\"lyric\"].apply(lambda x: text_cleaning(x))"
      ],
      "execution_count": null,
      "outputs": []
    },
    {
      "cell_type": "code",
      "metadata": {
        "colab": {
          "base_uri": "https://localhost:8080/",
          "height": 204
        },
        "id": "2XQVf8L4NXsX",
        "outputId": "f9f299a8-4cef-467d-dd9a-7432eff771f1"
      },
      "source": [
        "merge_data.head()"
      ],
      "execution_count": null,
      "outputs": [
        {
          "output_type": "execute_result",
          "data": {
            "text/html": [
              "<div>\n",
              "<style scoped>\n",
              "    .dataframe tbody tr th:only-of-type {\n",
              "        vertical-align: middle;\n",
              "    }\n",
              "\n",
              "    .dataframe tbody tr th {\n",
              "        vertical-align: top;\n",
              "    }\n",
              "\n",
              "    .dataframe thead th {\n",
              "        text-align: right;\n",
              "    }\n",
              "</style>\n",
              "<table border=\"1\" class=\"dataframe\">\n",
              "  <thead>\n",
              "    <tr style=\"text-align: right;\">\n",
              "      <th></th>\n",
              "      <th>track_id</th>\n",
              "      <th>lyric</th>\n",
              "    </tr>\n",
              "  </thead>\n",
              "  <tbody>\n",
              "    <tr>\n",
              "      <th>0</th>\n",
              "      <td>TRAABJS128F9325C99</td>\n",
              "      <td>come one one want way say eye tell still still...</td>\n",
              "    </tr>\n",
              "    <tr>\n",
              "      <th>1</th>\n",
              "      <td>TRAACIE128F428495B</td>\n",
              "      <td>love love like like come one never let let say...</td>\n",
              "    </tr>\n",
              "    <tr>\n",
              "      <th>2</th>\n",
              "      <td>TRAACPH12903CF5F14</td>\n",
              "      <td>come see eye thing live live everyth word much...</td>\n",
              "    </tr>\n",
              "    <tr>\n",
              "      <th>3</th>\n",
              "      <td>TRAADKW128E079503A</td>\n",
              "      <td>know like like like like go go get get get get...</td>\n",
              "    </tr>\n",
              "    <tr>\n",
              "      <th>4</th>\n",
              "      <td>TRAADQL128F427D281</td>\n",
              "      <td>love know like time go get get get get get get...</td>\n",
              "    </tr>\n",
              "  </tbody>\n",
              "</table>\n",
              "</div>"
            ],
            "text/plain": [
              "             track_id                                              lyric\n",
              "0  TRAABJS128F9325C99  come one one want way say eye tell still still...\n",
              "1  TRAACIE128F428495B  love love like like come one never let let say...\n",
              "2  TRAACPH12903CF5F14  come see eye thing live live everyth word much...\n",
              "3  TRAADKW128E079503A  know like like like like go go get get get get...\n",
              "4  TRAADQL128F427D281  love know like time go get get get get get get..."
            ]
          },
          "metadata": {
            "tags": []
          },
          "execution_count": 51
        }
      ]
    },
    {
      "cell_type": "code",
      "metadata": {
        "id": "FEOlJYmANi1l"
      },
      "source": [
        "word_cloud_text = \" \".join(list(merge_data[\"lyric\"].to_numpy()))"
      ],
      "execution_count": null,
      "outputs": []
    },
    {
      "cell_type": "code",
      "metadata": {
        "id": "jjVprzuVR1LH"
      },
      "source": [
        "text_list =[]\n",
        "word_cloud_text_li = word_cloud_text.split()\n",
        "for i in word_cloud_text_li:\n",
        "  if len(i)>1:\n",
        "    text_list.append(i)\n"
      ],
      "execution_count": null,
      "outputs": []
    },
    {
      "cell_type": "code",
      "metadata": {
        "colab": {
          "base_uri": "https://localhost:8080/"
        },
        "id": "-w1HAgmQRgil",
        "outputId": "f09087fe-4fa5-4f36-8c13-ff03b17f8870"
      },
      "source": [
        "print(\"Unique words in lyrics dataset: \",len(np.unique(text_list)))"
      ],
      "execution_count": null,
      "outputs": [
        {
          "output_type": "stream",
          "text": [
            "Unique words in lyrics dataset:  4695\n"
          ],
          "name": "stdout"
        }
      ]
    },
    {
      "cell_type": "code",
      "metadata": {
        "colab": {
          "base_uri": "https://localhost:8080/",
          "height": 751
        },
        "id": "J41-l194Nvsc",
        "outputId": "a5286322-7608-42f2-844c-643309cf287c"
      },
      "source": [
        "wordcloud = WordCloud(width = 800, height = 800,\n",
        "                background_color ='white',\n",
        "                stopwords = STOPWORDS,\n",
        "                min_font_size = 10).generate(word_cloud_text)\n",
        " \n",
        "# plot the WordCloud image                      \n",
        "plt.figure(figsize = (15,10), facecolor = None)\n",
        "plt.imshow(wordcloud)\n",
        "plt.axis(\"off\")\n",
        "plt.tight_layout(pad = 0)\n",
        " \n",
        "plt.show()"
      ],
      "execution_count": null,
      "outputs": [
        {
          "output_type": "display_data",
          "data": {
            "image/png": "[encoded data removed]",
            "text/plain": [
              "<Figure size 1080x720 with 1 Axes>"
            ]
          },
          "metadata": {
            "tags": [],
            "needs_background": "light"
          }
        }
      ]
    },
    {
      "cell_type": "code",
      "metadata": {
        "id": "asIQ_c3SP7af"
      },
      "source": [
        "from collections import Counter\n",
        "# line_text = \"Learn and practice and learn to practice\"\n",
        "freq = Counter(word_cloud_text.split()).most_common()\n",
        "# print(freq)"
      ],
      "execution_count": null,
      "outputs": []
    },
    {
      "cell_type": "code",
      "metadata": {
        "id": "3EHo5Nj1QF24"
      },
      "source": [
        "stop_words_li = list(stopwords.words('english'))\n",
        "counter = 0\n",
        "word_list = []\n",
        "freq_list= []\n",
        "i = 0\n",
        "while(counter<20):\n",
        "  if freq[i][0] not in stop_words_li:\n",
        "    word_list.append(freq[i][0])\n",
        "    freq_list.append(freq[i][1])\n",
        "    counter+=1\n",
        "    \n",
        "  i+=1"
      ],
      "execution_count": null,
      "outputs": []
    },
    {
      "cell_type": "code",
      "metadata": {
        "colab": {
          "base_uri": "https://localhost:8080/",
          "height": 594
        },
        "id": "yhrCdb3qRF7Y",
        "outputId": "e78e3a1b-659f-4079-8f3c-568bc62047f2"
      },
      "source": [
        "sns.barplot(y =freq_list, x=word_list )\n",
        "sns.set(rc={'figure.figsize':(15,10)})"
      ],
      "execution_count": null,
      "outputs": [
        {
          "output_type": "display_data",
          "data": {
            "image/png": "[encoded data removed]",
            "text/plain": [
              "<Figure size 1080x720 with 1 Axes>"
            ]
          },
          "metadata": {
            "tags": []
          }
        }
      ]
    },
    {
      "cell_type": "code",
      "metadata": {
        "id": "vMuXwWwiRvVO"
      },
      "source": [
        "def text_clean(text):\n",
        "  porter = nltk.PorterStemmer()\n",
        "  # print(text)\n",
        "  text = [w for w in text.split(\" \") if w not in stop_words_li]\n",
        "  text = \" \".join(text)\n",
        "  text = porter.stem(text)\n",
        "  text = nltk.word_tokenize(text)\n",
        "  return text"
      ],
      "execution_count": null,
      "outputs": []
    },
    {
      "cell_type": "code",
      "metadata": {
        "id": "-f7Pc6dpH-O7"
      },
      "source": [
        "merge_data[\"lyric_clean\"] = merge_data[\"lyric\"].apply(lambda x:text_clean(x))"
      ],
      "execution_count": null,
      "outputs": []
    },
    {
      "cell_type": "code",
      "metadata": {
        "colab": {
          "base_uri": "https://localhost:8080/",
          "height": 204
        },
        "id": "IDFjZzMvIVSM",
        "outputId": "84c961e3-c0ce-4741-a142-32c3e6ed9547"
      },
      "source": [
        "merge_data.head()"
      ],
      "execution_count": null,
      "outputs": [
        {
          "output_type": "execute_result",
          "data": {
            "text/html": [
              "<div>\n",
              "<style scoped>\n",
              "    .dataframe tbody tr th:only-of-type {\n",
              "        vertical-align: middle;\n",
              "    }\n",
              "\n",
              "    .dataframe tbody tr th {\n",
              "        vertical-align: top;\n",
              "    }\n",
              "\n",
              "    .dataframe thead th {\n",
              "        text-align: right;\n",
              "    }\n",
              "</style>\n",
              "<table border=\"1\" class=\"dataframe\">\n",
              "  <thead>\n",
              "    <tr style=\"text-align: right;\">\n",
              "      <th></th>\n",
              "      <th>track_id</th>\n",
              "      <th>lyric</th>\n",
              "      <th>lyric_clean</th>\n",
              "    </tr>\n",
              "  </thead>\n",
              "  <tbody>\n",
              "    <tr>\n",
              "      <th>0</th>\n",
              "      <td>TRAABJS128F9325C99</td>\n",
              "      <td>come one one want way say eye tell still still...</td>\n",
              "      <td>[come, one, one, want, way, say, eye, tell, st...</td>\n",
              "    </tr>\n",
              "    <tr>\n",
              "      <th>1</th>\n",
              "      <td>TRAACIE128F428495B</td>\n",
              "      <td>love love like like come one never let let say...</td>\n",
              "      <td>[love, love, like, like, come, one, never, let...</td>\n",
              "    </tr>\n",
              "    <tr>\n",
              "      <th>2</th>\n",
              "      <td>TRAACPH12903CF5F14</td>\n",
              "      <td>come see eye thing live live everyth word much...</td>\n",
              "      <td>[come, see, eye, thing, live, live, everyth, w...</td>\n",
              "    </tr>\n",
              "    <tr>\n",
              "      <th>3</th>\n",
              "      <td>TRAADKW128E079503A</td>\n",
              "      <td>know like like like like go go get get get get...</td>\n",
              "      <td>[know, like, like, like, like, go, go, get, ge...</td>\n",
              "    </tr>\n",
              "    <tr>\n",
              "      <th>4</th>\n",
              "      <td>TRAADQL128F427D281</td>\n",
              "      <td>love know like time go get get get get get get...</td>\n",
              "      <td>[love, know, like, time, go, get, get, get, ge...</td>\n",
              "    </tr>\n",
              "  </tbody>\n",
              "</table>\n",
              "</div>"
            ],
            "text/plain": [
              "             track_id  ...                                        lyric_clean\n",
              "0  TRAABJS128F9325C99  ...  [come, one, one, want, way, say, eye, tell, st...\n",
              "1  TRAACIE128F428495B  ...  [love, love, like, like, come, one, never, let...\n",
              "2  TRAACPH12903CF5F14  ...  [come, see, eye, thing, live, live, everyth, w...\n",
              "3  TRAADKW128E079503A  ...  [know, like, like, like, like, go, go, get, ge...\n",
              "4  TRAADQL128F427D281  ...  [love, know, like, time, go, get, get, get, ge...\n",
              "\n",
              "[5 rows x 3 columns]"
            ]
          },
          "metadata": {
            "tags": []
          },
          "execution_count": 61
        }
      ]
    },
    {
      "cell_type": "code",
      "metadata": {
        "id": "iCk5KRCPJZZJ"
      },
      "source": [
        "from sklearn.feature_extraction.text import TfidfVectorizer\n",
        "import gensim\n",
        "from gensim import corpora,models\n",
        "# from gensim import LdaModel,LsiModel "
      ],
      "execution_count": null,
      "outputs": []
    },
    {
      "cell_type": "code",
      "metadata": {
        "id": "e2Nz5lU9JhVI"
      },
      "source": [
        "tf_idf = TfidfVectorizer()"
      ],
      "execution_count": null,
      "outputs": []
    },
    {
      "cell_type": "code",
      "metadata": {
        "id": "sQzM7NRbNf9j"
      },
      "source": [
        "tfidf = tf_idf.fit_transform(merge_data[\"lyric\"])"
      ],
      "execution_count": null,
      "outputs": []
    },
    {
      "cell_type": "code",
      "metadata": {
        "id": "mN3VyHWKNuHZ"
      },
      "source": [
        "#word to vector:\n",
        "word_to_vector = gensim.models.Word2Vec(merge_data[\"lyric_clean\"],min_count=1,size=200,window=1)"
      ],
      "execution_count": null,
      "outputs": []
    },
    {
      "cell_type": "code",
      "metadata": {
        "colab": {
          "base_uri": "https://localhost:8080/"
        },
        "id": "C4Cnc5YoPXfm",
        "outputId": "51377ae8-7f05-4eff-8c01-f94eabcac770"
      },
      "source": [
        "merge_data[\"lyric_clean\"]"
      ],
      "execution_count": null,
      "outputs": [
        {
          "output_type": "execute_result",
          "data": {
            "text/plain": [
              "0       [come, one, one, want, way, say, eye, tell, st...\n",
              "1       [love, love, like, like, come, one, never, let...\n",
              "2       [come, see, eye, thing, live, live, everyth, w...\n",
              "3       [know, like, like, like, like, go, go, get, ge...\n",
              "4       [love, know, like, time, go, get, get, get, ge...\n",
              "                              ...                        \n",
              "5625    [like, like, like, like, come, come, come, com...\n",
              "5626    [love, love, love, love, love, love, love, lov...\n",
              "5627    [love, know, oh, oh, oh, oh, oh, oh, oh, oh, o...\n",
              "5628    [time, see, see, see, see, see, got, never, fe...\n",
              "5629    [know, know, know, know, know, know, see, feel...\n",
              "Name: lyric_clean, Length: 5630, dtype: object"
            ]
          },
          "metadata": {
            "tags": []
          },
          "execution_count": 66
        }
      ]
    },
    {
      "cell_type": "code",
      "metadata": {
        "colab": {
          "base_uri": "https://localhost:8080/"
        },
        "id": "kRc3pCmzOepP",
        "outputId": "639073b9-f61c-47c0-8012-9be2acda0ad3"
      },
      "source": [
        "vocabulary =set(word_to_vector.wv.index2word)\n",
        "features = []\n",
        "for t in merge_data[\"lyric_clean\"]:\n",
        "  feature_vector = np.zeros((200,),dtype=\"float64\")\n",
        "  word_count = 0\n",
        "  for w in t:\n",
        "    if w in vocabulary:\n",
        "      word_count+=1\n",
        "      feature_vector =np.add(feature_vector,word_to_vector[w])\n",
        "\n",
        "  if word_count:\n",
        "    feature_vector = np.divide(feature_vector,word_count)\n",
        "  \n",
        "  features.append(feature_vector)"
      ],
      "execution_count": null,
      "outputs": [
        {
          "output_type": "stream",
          "text": [
            "/usr/local/lib/python3.7/dist-packages/ipykernel_launcher.py:9: DeprecationWarning: Call to deprecated `__getitem__` (Method will be removed in 4.0.0, use self.wv.__getitem__() instead).\n",
            "  if __name__ == '__main__':\n"
          ],
          "name": "stderr"
        }
      ]
    },
    {
      "cell_type": "code",
      "metadata": {
        "id": "IsjhGsklQdVp"
      },
      "source": [
        "features = np.array(features)"
      ],
      "execution_count": null,
      "outputs": []
    },
    {
      "cell_type": "code",
      "metadata": {
        "id": "cPqurnLoSAiL"
      },
      "source": [
        "features_df = pd.DataFrame(features)\n",
        "features_df.to_csv(\"/content/drive/MyDrive/song_lyrics/features_song_lyrics.csv\")"
      ],
      "execution_count": null,
      "outputs": []
    },
    {
      "cell_type": "code",
      "metadata": {
        "id": "V2AoPtK4SSp7"
      },
      "source": [
        "features_df = pd.read_csv(\"/content/drive/MyDrive/song_lyrics/features_song_lyrics.csv\")"
      ],
      "execution_count": null,
      "outputs": []
    },
    {
      "cell_type": "code",
      "metadata": {
        "colab": {
          "base_uri": "https://localhost:8080/",
          "height": 253
        },
        "id": "_Oejube7SZmW",
        "outputId": "006d54fd-2ea3-499b-a5c4-6c654f4b3940"
      },
      "source": [
        "features_df = features_df.loc[:, ~features_df.columns.str.contains('^Unnamed')]\n",
        "features_df.head()"
      ],
      "execution_count": null,
      "outputs": [
        {
          "output_type": "execute_result",
          "data": {
            "text/html": [
              "<div>\n",
              "<style scoped>\n",
              "    .dataframe tbody tr th:only-of-type {\n",
              "        vertical-align: middle;\n",
              "    }\n",
              "\n",
              "    .dataframe tbody tr th {\n",
              "        vertical-align: top;\n",
              "    }\n",
              "\n",
              "    .dataframe thead th {\n",
              "        text-align: right;\n",
              "    }\n",
              "</style>\n",
              "<table border=\"1\" class=\"dataframe\">\n",
              "  <thead>\n",
              "    <tr style=\"text-align: right;\">\n",
              "      <th></th>\n",
              "      <th>0</th>\n",
              "      <th>1</th>\n",
              "      <th>2</th>\n",
              "      <th>3</th>\n",
              "      <th>4</th>\n",
              "      <th>5</th>\n",
              "      <th>6</th>\n",
              "      <th>7</th>\n",
              "      <th>8</th>\n",
              "      <th>9</th>\n",
              "      <th>10</th>\n",
              "      <th>11</th>\n",
              "      <th>12</th>\n",
              "      <th>13</th>\n",
              "      <th>14</th>\n",
              "      <th>15</th>\n",
              "      <th>16</th>\n",
              "      <th>17</th>\n",
              "      <th>18</th>\n",
              "      <th>19</th>\n",
              "      <th>20</th>\n",
              "      <th>21</th>\n",
              "      <th>22</th>\n",
              "      <th>23</th>\n",
              "      <th>24</th>\n",
              "      <th>25</th>\n",
              "      <th>26</th>\n",
              "      <th>27</th>\n",
              "      <th>28</th>\n",
              "      <th>29</th>\n",
              "      <th>30</th>\n",
              "      <th>31</th>\n",
              "      <th>32</th>\n",
              "      <th>33</th>\n",
              "      <th>34</th>\n",
              "      <th>35</th>\n",
              "      <th>36</th>\n",
              "      <th>37</th>\n",
              "      <th>38</th>\n",
              "      <th>39</th>\n",
              "      <th>...</th>\n",
              "      <th>160</th>\n",
              "      <th>161</th>\n",
              "      <th>162</th>\n",
              "      <th>163</th>\n",
              "      <th>164</th>\n",
              "      <th>165</th>\n",
              "      <th>166</th>\n",
              "      <th>167</th>\n",
              "      <th>168</th>\n",
              "      <th>169</th>\n",
              "      <th>170</th>\n",
              "      <th>171</th>\n",
              "      <th>172</th>\n",
              "      <th>173</th>\n",
              "      <th>174</th>\n",
              "      <th>175</th>\n",
              "      <th>176</th>\n",
              "      <th>177</th>\n",
              "      <th>178</th>\n",
              "      <th>179</th>\n",
              "      <th>180</th>\n",
              "      <th>181</th>\n",
              "      <th>182</th>\n",
              "      <th>183</th>\n",
              "      <th>184</th>\n",
              "      <th>185</th>\n",
              "      <th>186</th>\n",
              "      <th>187</th>\n",
              "      <th>188</th>\n",
              "      <th>189</th>\n",
              "      <th>190</th>\n",
              "      <th>191</th>\n",
              "      <th>192</th>\n",
              "      <th>193</th>\n",
              "      <th>194</th>\n",
              "      <th>195</th>\n",
              "      <th>196</th>\n",
              "      <th>197</th>\n",
              "      <th>198</th>\n",
              "      <th>199</th>\n",
              "    </tr>\n",
              "  </thead>\n",
              "  <tbody>\n",
              "    <tr>\n",
              "      <th>0</th>\n",
              "      <td>-0.196555</td>\n",
              "      <td>0.343103</td>\n",
              "      <td>-0.352295</td>\n",
              "      <td>-0.388369</td>\n",
              "      <td>-0.368954</td>\n",
              "      <td>0.110844</td>\n",
              "      <td>-0.085409</td>\n",
              "      <td>-0.158980</td>\n",
              "      <td>0.366786</td>\n",
              "      <td>0.162443</td>\n",
              "      <td>-0.072762</td>\n",
              "      <td>0.010798</td>\n",
              "      <td>-0.074170</td>\n",
              "      <td>-0.200765</td>\n",
              "      <td>0.157055</td>\n",
              "      <td>0.247745</td>\n",
              "      <td>-0.265222</td>\n",
              "      <td>0.047841</td>\n",
              "      <td>-0.047208</td>\n",
              "      <td>0.028044</td>\n",
              "      <td>0.117418</td>\n",
              "      <td>-0.322395</td>\n",
              "      <td>-0.250627</td>\n",
              "      <td>-0.629540</td>\n",
              "      <td>0.115158</td>\n",
              "      <td>0.376765</td>\n",
              "      <td>-0.370923</td>\n",
              "      <td>0.014681</td>\n",
              "      <td>-0.190798</td>\n",
              "      <td>-0.111064</td>\n",
              "      <td>0.140597</td>\n",
              "      <td>-0.837045</td>\n",
              "      <td>-0.357008</td>\n",
              "      <td>-0.351646</td>\n",
              "      <td>0.325234</td>\n",
              "      <td>-0.082184</td>\n",
              "      <td>-0.020762</td>\n",
              "      <td>0.312953</td>\n",
              "      <td>0.131370</td>\n",
              "      <td>-0.032297</td>\n",
              "      <td>...</td>\n",
              "      <td>-0.568691</td>\n",
              "      <td>-0.246837</td>\n",
              "      <td>-0.066075</td>\n",
              "      <td>0.100351</td>\n",
              "      <td>-0.077602</td>\n",
              "      <td>-0.105268</td>\n",
              "      <td>-0.182374</td>\n",
              "      <td>-0.100716</td>\n",
              "      <td>0.052440</td>\n",
              "      <td>0.384465</td>\n",
              "      <td>-0.192873</td>\n",
              "      <td>0.131239</td>\n",
              "      <td>-0.148678</td>\n",
              "      <td>0.690693</td>\n",
              "      <td>0.235268</td>\n",
              "      <td>-0.218194</td>\n",
              "      <td>0.039723</td>\n",
              "      <td>-0.010714</td>\n",
              "      <td>-0.440417</td>\n",
              "      <td>0.032507</td>\n",
              "      <td>-0.186873</td>\n",
              "      <td>0.050171</td>\n",
              "      <td>-0.197341</td>\n",
              "      <td>-0.100923</td>\n",
              "      <td>-0.044324</td>\n",
              "      <td>-0.358687</td>\n",
              "      <td>-0.237803</td>\n",
              "      <td>0.004023</td>\n",
              "      <td>-0.170138</td>\n",
              "      <td>0.153874</td>\n",
              "      <td>-0.299474</td>\n",
              "      <td>0.146379</td>\n",
              "      <td>0.163751</td>\n",
              "      <td>-0.097349</td>\n",
              "      <td>-0.330435</td>\n",
              "      <td>0.175479</td>\n",
              "      <td>-0.809258</td>\n",
              "      <td>-0.337011</td>\n",
              "      <td>-0.101971</td>\n",
              "      <td>0.044040</td>\n",
              "    </tr>\n",
              "    <tr>\n",
              "      <th>1</th>\n",
              "      <td>-0.264757</td>\n",
              "      <td>0.354846</td>\n",
              "      <td>-0.291293</td>\n",
              "      <td>-0.325097</td>\n",
              "      <td>-0.233190</td>\n",
              "      <td>0.029589</td>\n",
              "      <td>-0.024522</td>\n",
              "      <td>-0.151477</td>\n",
              "      <td>0.351190</td>\n",
              "      <td>0.105656</td>\n",
              "      <td>-0.064915</td>\n",
              "      <td>0.037579</td>\n",
              "      <td>-0.091690</td>\n",
              "      <td>-0.193027</td>\n",
              "      <td>0.214352</td>\n",
              "      <td>0.301774</td>\n",
              "      <td>-0.221457</td>\n",
              "      <td>0.125333</td>\n",
              "      <td>-0.023994</td>\n",
              "      <td>-0.014170</td>\n",
              "      <td>0.082333</td>\n",
              "      <td>-0.255891</td>\n",
              "      <td>-0.169244</td>\n",
              "      <td>-0.511731</td>\n",
              "      <td>-0.014672</td>\n",
              "      <td>0.270116</td>\n",
              "      <td>-0.271609</td>\n",
              "      <td>-0.099126</td>\n",
              "      <td>-0.201292</td>\n",
              "      <td>-0.121274</td>\n",
              "      <td>0.187327</td>\n",
              "      <td>-0.730588</td>\n",
              "      <td>-0.334078</td>\n",
              "      <td>-0.355400</td>\n",
              "      <td>0.302613</td>\n",
              "      <td>-0.036231</td>\n",
              "      <td>0.093836</td>\n",
              "      <td>0.291071</td>\n",
              "      <td>0.097311</td>\n",
              "      <td>0.040304</td>\n",
              "      <td>...</td>\n",
              "      <td>-0.510889</td>\n",
              "      <td>-0.184442</td>\n",
              "      <td>-0.035251</td>\n",
              "      <td>0.146603</td>\n",
              "      <td>-0.072249</td>\n",
              "      <td>-0.093282</td>\n",
              "      <td>-0.135176</td>\n",
              "      <td>-0.130061</td>\n",
              "      <td>0.022486</td>\n",
              "      <td>0.374470</td>\n",
              "      <td>-0.106300</td>\n",
              "      <td>0.127814</td>\n",
              "      <td>-0.125796</td>\n",
              "      <td>0.617175</td>\n",
              "      <td>0.255991</td>\n",
              "      <td>-0.189075</td>\n",
              "      <td>0.059682</td>\n",
              "      <td>-0.107651</td>\n",
              "      <td>-0.425954</td>\n",
              "      <td>0.009907</td>\n",
              "      <td>-0.113338</td>\n",
              "      <td>0.092415</td>\n",
              "      <td>-0.224710</td>\n",
              "      <td>-0.084104</td>\n",
              "      <td>-0.056115</td>\n",
              "      <td>-0.294925</td>\n",
              "      <td>-0.203995</td>\n",
              "      <td>0.077128</td>\n",
              "      <td>-0.178490</td>\n",
              "      <td>0.124087</td>\n",
              "      <td>-0.205765</td>\n",
              "      <td>0.138519</td>\n",
              "      <td>0.159488</td>\n",
              "      <td>-0.022402</td>\n",
              "      <td>-0.271994</td>\n",
              "      <td>0.199594</td>\n",
              "      <td>-0.690261</td>\n",
              "      <td>-0.381600</td>\n",
              "      <td>-0.067997</td>\n",
              "      <td>0.054645</td>\n",
              "    </tr>\n",
              "    <tr>\n",
              "      <th>2</th>\n",
              "      <td>-0.262135</td>\n",
              "      <td>0.429103</td>\n",
              "      <td>-0.284526</td>\n",
              "      <td>-0.277438</td>\n",
              "      <td>-0.248846</td>\n",
              "      <td>0.059639</td>\n",
              "      <td>-0.089384</td>\n",
              "      <td>-0.131281</td>\n",
              "      <td>0.373911</td>\n",
              "      <td>0.126816</td>\n",
              "      <td>-0.046687</td>\n",
              "      <td>0.164165</td>\n",
              "      <td>-0.065195</td>\n",
              "      <td>-0.327486</td>\n",
              "      <td>0.242909</td>\n",
              "      <td>0.257258</td>\n",
              "      <td>-0.262766</td>\n",
              "      <td>0.201123</td>\n",
              "      <td>-0.020064</td>\n",
              "      <td>-0.008006</td>\n",
              "      <td>0.106567</td>\n",
              "      <td>-0.333292</td>\n",
              "      <td>-0.144166</td>\n",
              "      <td>-0.581164</td>\n",
              "      <td>0.003854</td>\n",
              "      <td>0.330714</td>\n",
              "      <td>-0.300786</td>\n",
              "      <td>-0.057308</td>\n",
              "      <td>-0.137211</td>\n",
              "      <td>-0.019000</td>\n",
              "      <td>0.104997</td>\n",
              "      <td>-0.853831</td>\n",
              "      <td>-0.474268</td>\n",
              "      <td>-0.343551</td>\n",
              "      <td>0.397103</td>\n",
              "      <td>-0.127345</td>\n",
              "      <td>0.003860</td>\n",
              "      <td>0.374877</td>\n",
              "      <td>0.080695</td>\n",
              "      <td>-0.053961</td>\n",
              "      <td>...</td>\n",
              "      <td>-0.665333</td>\n",
              "      <td>-0.235360</td>\n",
              "      <td>-0.217328</td>\n",
              "      <td>0.142439</td>\n",
              "      <td>-0.091504</td>\n",
              "      <td>-0.113457</td>\n",
              "      <td>-0.122098</td>\n",
              "      <td>-0.111773</td>\n",
              "      <td>0.009092</td>\n",
              "      <td>0.416337</td>\n",
              "      <td>-0.021837</td>\n",
              "      <td>0.055477</td>\n",
              "      <td>-0.153021</td>\n",
              "      <td>0.627201</td>\n",
              "      <td>0.254125</td>\n",
              "      <td>-0.160243</td>\n",
              "      <td>-0.040985</td>\n",
              "      <td>-0.110453</td>\n",
              "      <td>-0.460085</td>\n",
              "      <td>0.065061</td>\n",
              "      <td>-0.106225</td>\n",
              "      <td>0.105321</td>\n",
              "      <td>-0.119222</td>\n",
              "      <td>-0.009211</td>\n",
              "      <td>-0.022930</td>\n",
              "      <td>-0.311445</td>\n",
              "      <td>-0.338179</td>\n",
              "      <td>0.063238</td>\n",
              "      <td>-0.279263</td>\n",
              "      <td>0.085416</td>\n",
              "      <td>-0.256850</td>\n",
              "      <td>0.231763</td>\n",
              "      <td>0.160602</td>\n",
              "      <td>-0.012991</td>\n",
              "      <td>-0.358408</td>\n",
              "      <td>0.184167</td>\n",
              "      <td>-0.754938</td>\n",
              "      <td>-0.419013</td>\n",
              "      <td>-0.220291</td>\n",
              "      <td>0.103598</td>\n",
              "    </tr>\n",
              "    <tr>\n",
              "      <th>3</th>\n",
              "      <td>-0.222074</td>\n",
              "      <td>0.330368</td>\n",
              "      <td>-0.287868</td>\n",
              "      <td>-0.459541</td>\n",
              "      <td>-0.359536</td>\n",
              "      <td>0.129076</td>\n",
              "      <td>-0.056646</td>\n",
              "      <td>-0.143158</td>\n",
              "      <td>0.487084</td>\n",
              "      <td>0.077284</td>\n",
              "      <td>-0.074747</td>\n",
              "      <td>0.001126</td>\n",
              "      <td>-0.132673</td>\n",
              "      <td>-0.284194</td>\n",
              "      <td>0.247724</td>\n",
              "      <td>0.308690</td>\n",
              "      <td>-0.377937</td>\n",
              "      <td>0.078601</td>\n",
              "      <td>-0.057872</td>\n",
              "      <td>0.006571</td>\n",
              "      <td>0.197901</td>\n",
              "      <td>-0.398933</td>\n",
              "      <td>-0.238684</td>\n",
              "      <td>-0.632909</td>\n",
              "      <td>0.101987</td>\n",
              "      <td>0.366954</td>\n",
              "      <td>-0.403036</td>\n",
              "      <td>0.004739</td>\n",
              "      <td>-0.267103</td>\n",
              "      <td>-0.130558</td>\n",
              "      <td>0.202722</td>\n",
              "      <td>-0.953598</td>\n",
              "      <td>-0.416645</td>\n",
              "      <td>-0.397202</td>\n",
              "      <td>0.338021</td>\n",
              "      <td>-0.062166</td>\n",
              "      <td>0.010658</td>\n",
              "      <td>0.410462</td>\n",
              "      <td>0.140762</td>\n",
              "      <td>0.081925</td>\n",
              "      <td>...</td>\n",
              "      <td>-0.690382</td>\n",
              "      <td>-0.242650</td>\n",
              "      <td>-0.042234</td>\n",
              "      <td>0.228239</td>\n",
              "      <td>-0.123724</td>\n",
              "      <td>-0.091602</td>\n",
              "      <td>-0.212775</td>\n",
              "      <td>-0.109267</td>\n",
              "      <td>0.050784</td>\n",
              "      <td>0.546363</td>\n",
              "      <td>-0.189192</td>\n",
              "      <td>0.195755</td>\n",
              "      <td>-0.173104</td>\n",
              "      <td>0.894149</td>\n",
              "      <td>0.300449</td>\n",
              "      <td>-0.323192</td>\n",
              "      <td>0.154791</td>\n",
              "      <td>-0.091097</td>\n",
              "      <td>-0.482935</td>\n",
              "      <td>-0.055391</td>\n",
              "      <td>-0.226331</td>\n",
              "      <td>0.161686</td>\n",
              "      <td>-0.173139</td>\n",
              "      <td>-0.008669</td>\n",
              "      <td>-0.098666</td>\n",
              "      <td>-0.367850</td>\n",
              "      <td>-0.191064</td>\n",
              "      <td>0.049929</td>\n",
              "      <td>-0.197830</td>\n",
              "      <td>0.119763</td>\n",
              "      <td>-0.284396</td>\n",
              "      <td>0.190208</td>\n",
              "      <td>0.136454</td>\n",
              "      <td>-0.026301</td>\n",
              "      <td>-0.317523</td>\n",
              "      <td>0.213149</td>\n",
              "      <td>-0.829487</td>\n",
              "      <td>-0.489344</td>\n",
              "      <td>-0.037407</td>\n",
              "      <td>0.012791</td>\n",
              "    </tr>\n",
              "    <tr>\n",
              "      <th>4</th>\n",
              "      <td>-0.223407</td>\n",
              "      <td>0.388742</td>\n",
              "      <td>-0.145712</td>\n",
              "      <td>-0.393470</td>\n",
              "      <td>-0.601727</td>\n",
              "      <td>0.106788</td>\n",
              "      <td>-0.117825</td>\n",
              "      <td>-0.145363</td>\n",
              "      <td>0.495194</td>\n",
              "      <td>0.014818</td>\n",
              "      <td>-0.037090</td>\n",
              "      <td>0.079001</td>\n",
              "      <td>-0.306078</td>\n",
              "      <td>-0.117699</td>\n",
              "      <td>0.313208</td>\n",
              "      <td>0.405261</td>\n",
              "      <td>-0.403618</td>\n",
              "      <td>0.122336</td>\n",
              "      <td>-0.079414</td>\n",
              "      <td>-0.017310</td>\n",
              "      <td>0.364429</td>\n",
              "      <td>-0.439091</td>\n",
              "      <td>-0.135918</td>\n",
              "      <td>-0.738124</td>\n",
              "      <td>0.339113</td>\n",
              "      <td>0.234953</td>\n",
              "      <td>-0.487825</td>\n",
              "      <td>-0.125515</td>\n",
              "      <td>-0.187852</td>\n",
              "      <td>-0.239070</td>\n",
              "      <td>0.048228</td>\n",
              "      <td>-0.926044</td>\n",
              "      <td>-0.424977</td>\n",
              "      <td>-0.277568</td>\n",
              "      <td>0.365640</td>\n",
              "      <td>-0.124350</td>\n",
              "      <td>-0.138388</td>\n",
              "      <td>0.462940</td>\n",
              "      <td>0.257475</td>\n",
              "      <td>-0.134877</td>\n",
              "      <td>...</td>\n",
              "      <td>-0.672906</td>\n",
              "      <td>-0.194670</td>\n",
              "      <td>-0.423605</td>\n",
              "      <td>0.313231</td>\n",
              "      <td>-0.277776</td>\n",
              "      <td>-0.117384</td>\n",
              "      <td>-0.304912</td>\n",
              "      <td>-0.194851</td>\n",
              "      <td>0.251215</td>\n",
              "      <td>0.449598</td>\n",
              "      <td>-0.129744</td>\n",
              "      <td>0.165678</td>\n",
              "      <td>-0.163208</td>\n",
              "      <td>0.700296</td>\n",
              "      <td>0.313414</td>\n",
              "      <td>-0.283044</td>\n",
              "      <td>0.056164</td>\n",
              "      <td>-0.006292</td>\n",
              "      <td>-0.458050</td>\n",
              "      <td>-0.174465</td>\n",
              "      <td>-0.208268</td>\n",
              "      <td>0.217523</td>\n",
              "      <td>-0.026555</td>\n",
              "      <td>-0.183763</td>\n",
              "      <td>-0.161787</td>\n",
              "      <td>-0.457824</td>\n",
              "      <td>-0.105568</td>\n",
              "      <td>0.194610</td>\n",
              "      <td>-0.267196</td>\n",
              "      <td>0.272686</td>\n",
              "      <td>-0.227171</td>\n",
              "      <td>0.129449</td>\n",
              "      <td>-0.060383</td>\n",
              "      <td>-0.108149</td>\n",
              "      <td>-0.309571</td>\n",
              "      <td>0.251272</td>\n",
              "      <td>-0.834738</td>\n",
              "      <td>-0.505018</td>\n",
              "      <td>-0.142991</td>\n",
              "      <td>-0.114964</td>\n",
              "    </tr>\n",
              "  </tbody>\n",
              "</table>\n",
              "<p>5 rows × 200 columns</p>\n",
              "</div>"
            ],
            "text/plain": [
              "          0         1         2  ...       197       198       199\n",
              "0 -0.196555  0.343103 -0.352295  ... -0.337011 -0.101971  0.044040\n",
              "1 -0.264757  0.354846 -0.291293  ... -0.381600 -0.067997  0.054645\n",
              "2 -0.262135  0.429103 -0.284526  ... -0.419013 -0.220291  0.103598\n",
              "3 -0.222074  0.330368 -0.287868  ... -0.489344 -0.037407  0.012791\n",
              "4 -0.223407  0.388742 -0.145712  ... -0.505018 -0.142991 -0.114964\n",
              "\n",
              "[5 rows x 200 columns]"
            ]
          },
          "metadata": {
            "tags": []
          },
          "execution_count": 71
        }
      ]
    },
    {
      "cell_type": "code",
      "metadata": {
        "colab": {
          "base_uri": "https://localhost:8080/"
        },
        "id": "cTaMqc7TUVUZ",
        "outputId": "4f1aa333-aeca-49f9-e3fb-0be6e460920e"
      },
      "source": [
        "features_df.shape"
      ],
      "execution_count": null,
      "outputs": [
        {
          "output_type": "execute_result",
          "data": {
            "text/plain": [
              "(5630, 201)"
            ]
          },
          "metadata": {
            "tags": []
          },
          "execution_count": 95
        }
      ]
    },
    {
      "cell_type": "code",
      "metadata": {
        "id": "ct0_XQOcSYgk"
      },
      "source": [
        "#Topic modelling\n",
        "word_corpus = corpora.Dictionary(merge_data[\"lyric_clean\"])"
      ],
      "execution_count": null,
      "outputs": []
    },
    {
      "cell_type": "code",
      "metadata": {
        "id": "Y9qvpibxSmKG"
      },
      "source": [
        "sorted_word = sorted(word_corpus.items(),key=lambda i:i[0], reverse = False)\n",
        "unique_token = [token for (ID,token) in sorted_word]"
      ],
      "execution_count": null,
      "outputs": []
    },
    {
      "cell_type": "code",
      "metadata": {
        "id": "AGCnuP8Cg8UV"
      },
      "source": [
        "merge_data[\"vector\"] =[word_corpus.doc2bow(tokens) for tokens in merge_data[\"lyric_clean\"]]"
      ],
      "execution_count": null,
      "outputs": []
    },
    {
      "cell_type": "code",
      "metadata": {
        "colab": {
          "base_uri": "https://localhost:8080/",
          "height": 289
        },
        "id": "b6aSa0KYhhZZ",
        "outputId": "7e09bc30-8c2d-41b8-c5dc-d8714073c099"
      },
      "source": [
        "merge_data.head()"
      ],
      "execution_count": null,
      "outputs": [
        {
          "output_type": "execute_result",
          "data": {
            "text/html": [
              "<div>\n",
              "<style scoped>\n",
              "    .dataframe tbody tr th:only-of-type {\n",
              "        vertical-align: middle;\n",
              "    }\n",
              "\n",
              "    .dataframe tbody tr th {\n",
              "        vertical-align: top;\n",
              "    }\n",
              "\n",
              "    .dataframe thead th {\n",
              "        text-align: right;\n",
              "    }\n",
              "</style>\n",
              "<table border=\"1\" class=\"dataframe\">\n",
              "  <thead>\n",
              "    <tr style=\"text-align: right;\">\n",
              "      <th></th>\n",
              "      <th>track_id</th>\n",
              "      <th>lyric</th>\n",
              "      <th>lyric_clean</th>\n",
              "      <th>vector</th>\n",
              "    </tr>\n",
              "  </thead>\n",
              "  <tbody>\n",
              "    <tr>\n",
              "      <th>0</th>\n",
              "      <td>TRAABJS128F9325C99</td>\n",
              "      <td>come one one want way say eye tell still still...</td>\n",
              "      <td>[come, one, one, want, way, say, eye, tell, st...</td>\n",
              "      <td>[(0, 1), (1, 1), (2, 1), (3, 3), (4, 1), (5, 1...</td>\n",
              "    </tr>\n",
              "    <tr>\n",
              "      <th>1</th>\n",
              "      <td>TRAACIE128F428495B</td>\n",
              "      <td>love love like like come one never let let say...</td>\n",
              "      <td>[love, love, like, like, come, one, never, let...</td>\n",
              "      <td>[(1, 1), (14, 1), (19, 2), (33, 1), (34, 1), (...</td>\n",
              "    </tr>\n",
              "    <tr>\n",
              "      <th>2</th>\n",
              "      <td>TRAACPH12903CF5F14</td>\n",
              "      <td>come see eye thing live live everyth word much...</td>\n",
              "      <td>[come, see, eye, thing, live, live, everyth, w...</td>\n",
              "      <td>[(1, 1), (2, 1), (72, 1), (105, 2), (106, 1), ...</td>\n",
              "    </tr>\n",
              "    <tr>\n",
              "      <th>3</th>\n",
              "      <td>TRAADKW128E079503A</td>\n",
              "      <td>know like like like like go go get get get get...</td>\n",
              "      <td>[know, like, like, like, like, go, go, get, ge...</td>\n",
              "      <td>[(11, 3), (17, 1), (19, 2), (21, 1), (27, 2), ...</td>\n",
              "    </tr>\n",
              "    <tr>\n",
              "      <th>4</th>\n",
              "      <td>TRAADQL128F427D281</td>\n",
              "      <td>love know like time go get get get get get get...</td>\n",
              "      <td>[love, know, like, time, go, get, get, get, ge...</td>\n",
              "      <td>[(0, 1), (19, 1), (27, 1), (38, 1), (68, 1), (...</td>\n",
              "    </tr>\n",
              "  </tbody>\n",
              "</table>\n",
              "</div>"
            ],
            "text/plain": [
              "             track_id  ...                                             vector\n",
              "0  TRAABJS128F9325C99  ...  [(0, 1), (1, 1), (2, 1), (3, 3), (4, 1), (5, 1...\n",
              "1  TRAACIE128F428495B  ...  [(1, 1), (14, 1), (19, 2), (33, 1), (34, 1), (...\n",
              "2  TRAACPH12903CF5F14  ...  [(1, 1), (2, 1), (72, 1), (105, 2), (106, 1), ...\n",
              "3  TRAADKW128E079503A  ...  [(11, 3), (17, 1), (19, 2), (21, 1), (27, 2), ...\n",
              "4  TRAADQL128F427D281  ...  [(0, 1), (19, 1), (27, 1), (38, 1), (68, 1), (...\n",
              "\n",
              "[5 rows x 4 columns]"
            ]
          },
          "metadata": {
            "tags": []
          },
          "execution_count": 75
        }
      ]
    },
    {
      "cell_type": "code",
      "metadata": {
        "colab": {
          "base_uri": "https://localhost:8080/"
        },
        "id": "7mwjwjhChrYg",
        "outputId": "81ad3340-1e8f-4b2d-c452-a2ce808e532e"
      },
      "source": [
        "word_matrix = gensim.matutils.corpus2dense(merge_data['vector'], num_terms=len(word_corpus), dtype = 'int')"
      ],
      "execution_count": null,
      "outputs": [
        {
          "output_type": "stream",
          "text": [
            "/usr/local/lib/python3.7/dist-packages/gensim/matutils.py:502: FutureWarning: arrays to stack must be passed as a \"sequence\" type such as list or tuple. Support for non-sequence iterables such as generators is deprecated as of NumPy 1.16 and will raise an error in the future.\n",
            "  result = np.column_stack(sparse2full(doc, num_terms) for doc in corpus)\n"
          ],
          "name": "stderr"
        }
      ]
    },
    {
      "cell_type": "code",
      "metadata": {
        "id": "38MxhDGGiTQJ"
      },
      "source": [
        "lyrics_merge = pd.concat([merge_data,pd.DataFrame(word_matrix.T)], axis=1)"
      ],
      "execution_count": null,
      "outputs": []
    },
    {
      "cell_type": "code",
      "metadata": {
        "colab": {
          "base_uri": "https://localhost:8080/",
          "height": 848
        },
        "id": "IQLQ_ZQXjOGw",
        "outputId": "d70d7aa8-5eab-40c0-f9d7-6a3cd017cb7d"
      },
      "source": [
        "lyrics_merge.head()"
      ],
      "execution_count": null,
      "outputs": [
        {
          "output_type": "execute_result",
          "data": {
            "text/html": [
              "<div>\n",
              "<style scoped>\n",
              "    .dataframe tbody tr th:only-of-type {\n",
              "        vertical-align: middle;\n",
              "    }\n",
              "\n",
              "    .dataframe tbody tr th {\n",
              "        vertical-align: top;\n",
              "    }\n",
              "\n",
              "    .dataframe thead th {\n",
              "        text-align: right;\n",
              "    }\n",
              "</style>\n",
              "<table border=\"1\" class=\"dataframe\">\n",
              "  <thead>\n",
              "    <tr style=\"text-align: right;\">\n",
              "      <th></th>\n",
              "      <th>track_id</th>\n",
              "      <th>lyric</th>\n",
              "      <th>lyric_clean</th>\n",
              "      <th>vector</th>\n",
              "      <th>0</th>\n",
              "      <th>1</th>\n",
              "      <th>2</th>\n",
              "      <th>3</th>\n",
              "      <th>4</th>\n",
              "      <th>5</th>\n",
              "      <th>6</th>\n",
              "      <th>7</th>\n",
              "      <th>8</th>\n",
              "      <th>9</th>\n",
              "      <th>10</th>\n",
              "      <th>11</th>\n",
              "      <th>12</th>\n",
              "      <th>13</th>\n",
              "      <th>14</th>\n",
              "      <th>15</th>\n",
              "      <th>16</th>\n",
              "      <th>17</th>\n",
              "      <th>18</th>\n",
              "      <th>19</th>\n",
              "      <th>20</th>\n",
              "      <th>21</th>\n",
              "      <th>22</th>\n",
              "      <th>23</th>\n",
              "      <th>24</th>\n",
              "      <th>25</th>\n",
              "      <th>26</th>\n",
              "      <th>27</th>\n",
              "      <th>28</th>\n",
              "      <th>29</th>\n",
              "      <th>30</th>\n",
              "      <th>31</th>\n",
              "      <th>32</th>\n",
              "      <th>33</th>\n",
              "      <th>34</th>\n",
              "      <th>35</th>\n",
              "      <th>...</th>\n",
              "      <th>4968</th>\n",
              "      <th>4969</th>\n",
              "      <th>4970</th>\n",
              "      <th>4971</th>\n",
              "      <th>4972</th>\n",
              "      <th>4973</th>\n",
              "      <th>4974</th>\n",
              "      <th>4975</th>\n",
              "      <th>4976</th>\n",
              "      <th>4977</th>\n",
              "      <th>4978</th>\n",
              "      <th>4979</th>\n",
              "      <th>4980</th>\n",
              "      <th>4981</th>\n",
              "      <th>4982</th>\n",
              "      <th>4983</th>\n",
              "      <th>4984</th>\n",
              "      <th>4985</th>\n",
              "      <th>4986</th>\n",
              "      <th>4987</th>\n",
              "      <th>4988</th>\n",
              "      <th>4989</th>\n",
              "      <th>4990</th>\n",
              "      <th>4991</th>\n",
              "      <th>4992</th>\n",
              "      <th>4993</th>\n",
              "      <th>4994</th>\n",
              "      <th>4995</th>\n",
              "      <th>4996</th>\n",
              "      <th>4997</th>\n",
              "      <th>4998</th>\n",
              "      <th>4999</th>\n",
              "      <th>5000</th>\n",
              "      <th>5001</th>\n",
              "      <th>5002</th>\n",
              "      <th>5003</th>\n",
              "      <th>5004</th>\n",
              "      <th>5005</th>\n",
              "      <th>5006</th>\n",
              "      <th>5007</th>\n",
              "    </tr>\n",
              "  </thead>\n",
              "  <tbody>\n",
              "    <tr>\n",
              "      <th>0</th>\n",
              "      <td>TRAABJS128F9325C99</td>\n",
              "      <td>come one one want way say eye tell still still...</td>\n",
              "      <td>[come, one, one, want, way, say, eye, tell, st...</td>\n",
              "      <td>[(0, 1), (1, 1), (2, 1), (3, 3), (4, 1), (5, 1...</td>\n",
              "      <td>1</td>\n",
              "      <td>1</td>\n",
              "      <td>1</td>\n",
              "      <td>3</td>\n",
              "      <td>1</td>\n",
              "      <td>1</td>\n",
              "      <td>2</td>\n",
              "      <td>2</td>\n",
              "      <td>3</td>\n",
              "      <td>1</td>\n",
              "      <td>1</td>\n",
              "      <td>2</td>\n",
              "      <td>2</td>\n",
              "      <td>1</td>\n",
              "      <td>2</td>\n",
              "      <td>2</td>\n",
              "      <td>2</td>\n",
              "      <td>1</td>\n",
              "      <td>2</td>\n",
              "      <td>1</td>\n",
              "      <td>1</td>\n",
              "      <td>2</td>\n",
              "      <td>2</td>\n",
              "      <td>3</td>\n",
              "      <td>1</td>\n",
              "      <td>2</td>\n",
              "      <td>2</td>\n",
              "      <td>1</td>\n",
              "      <td>1</td>\n",
              "      <td>1</td>\n",
              "      <td>4</td>\n",
              "      <td>1</td>\n",
              "      <td>1</td>\n",
              "      <td>0</td>\n",
              "      <td>0</td>\n",
              "      <td>0</td>\n",
              "      <td>...</td>\n",
              "      <td>0</td>\n",
              "      <td>0</td>\n",
              "      <td>0</td>\n",
              "      <td>0</td>\n",
              "      <td>0</td>\n",
              "      <td>0</td>\n",
              "      <td>0</td>\n",
              "      <td>0</td>\n",
              "      <td>0</td>\n",
              "      <td>0</td>\n",
              "      <td>0</td>\n",
              "      <td>0</td>\n",
              "      <td>0</td>\n",
              "      <td>0</td>\n",
              "      <td>0</td>\n",
              "      <td>0</td>\n",
              "      <td>0</td>\n",
              "      <td>0</td>\n",
              "      <td>0</td>\n",
              "      <td>0</td>\n",
              "      <td>0</td>\n",
              "      <td>0</td>\n",
              "      <td>0</td>\n",
              "      <td>0</td>\n",
              "      <td>0</td>\n",
              "      <td>0</td>\n",
              "      <td>0</td>\n",
              "      <td>0</td>\n",
              "      <td>0</td>\n",
              "      <td>0</td>\n",
              "      <td>0</td>\n",
              "      <td>0</td>\n",
              "      <td>0</td>\n",
              "      <td>0</td>\n",
              "      <td>0</td>\n",
              "      <td>0</td>\n",
              "      <td>0</td>\n",
              "      <td>0</td>\n",
              "      <td>0</td>\n",
              "      <td>0</td>\n",
              "    </tr>\n",
              "    <tr>\n",
              "      <th>1</th>\n",
              "      <td>TRAACIE128F428495B</td>\n",
              "      <td>love love like like come one never let let say...</td>\n",
              "      <td>[love, love, like, like, come, one, never, let...</td>\n",
              "      <td>[(1, 1), (14, 1), (19, 2), (33, 1), (34, 1), (...</td>\n",
              "      <td>0</td>\n",
              "      <td>1</td>\n",
              "      <td>0</td>\n",
              "      <td>0</td>\n",
              "      <td>0</td>\n",
              "      <td>0</td>\n",
              "      <td>0</td>\n",
              "      <td>0</td>\n",
              "      <td>0</td>\n",
              "      <td>0</td>\n",
              "      <td>0</td>\n",
              "      <td>0</td>\n",
              "      <td>0</td>\n",
              "      <td>0</td>\n",
              "      <td>1</td>\n",
              "      <td>0</td>\n",
              "      <td>0</td>\n",
              "      <td>0</td>\n",
              "      <td>0</td>\n",
              "      <td>2</td>\n",
              "      <td>0</td>\n",
              "      <td>0</td>\n",
              "      <td>0</td>\n",
              "      <td>0</td>\n",
              "      <td>0</td>\n",
              "      <td>0</td>\n",
              "      <td>0</td>\n",
              "      <td>0</td>\n",
              "      <td>0</td>\n",
              "      <td>0</td>\n",
              "      <td>0</td>\n",
              "      <td>0</td>\n",
              "      <td>0</td>\n",
              "      <td>1</td>\n",
              "      <td>1</td>\n",
              "      <td>1</td>\n",
              "      <td>...</td>\n",
              "      <td>0</td>\n",
              "      <td>0</td>\n",
              "      <td>0</td>\n",
              "      <td>0</td>\n",
              "      <td>0</td>\n",
              "      <td>0</td>\n",
              "      <td>0</td>\n",
              "      <td>0</td>\n",
              "      <td>0</td>\n",
              "      <td>0</td>\n",
              "      <td>0</td>\n",
              "      <td>0</td>\n",
              "      <td>0</td>\n",
              "      <td>0</td>\n",
              "      <td>0</td>\n",
              "      <td>0</td>\n",
              "      <td>0</td>\n",
              "      <td>0</td>\n",
              "      <td>0</td>\n",
              "      <td>0</td>\n",
              "      <td>0</td>\n",
              "      <td>0</td>\n",
              "      <td>0</td>\n",
              "      <td>0</td>\n",
              "      <td>0</td>\n",
              "      <td>0</td>\n",
              "      <td>0</td>\n",
              "      <td>0</td>\n",
              "      <td>0</td>\n",
              "      <td>0</td>\n",
              "      <td>0</td>\n",
              "      <td>0</td>\n",
              "      <td>0</td>\n",
              "      <td>0</td>\n",
              "      <td>0</td>\n",
              "      <td>0</td>\n",
              "      <td>0</td>\n",
              "      <td>0</td>\n",
              "      <td>0</td>\n",
              "      <td>0</td>\n",
              "    </tr>\n",
              "    <tr>\n",
              "      <th>2</th>\n",
              "      <td>TRAACPH12903CF5F14</td>\n",
              "      <td>come see eye thing live live everyth word much...</td>\n",
              "      <td>[come, see, eye, thing, live, live, everyth, w...</td>\n",
              "      <td>[(1, 1), (2, 1), (72, 1), (105, 2), (106, 1), ...</td>\n",
              "      <td>0</td>\n",
              "      <td>1</td>\n",
              "      <td>1</td>\n",
              "      <td>0</td>\n",
              "      <td>0</td>\n",
              "      <td>0</td>\n",
              "      <td>0</td>\n",
              "      <td>0</td>\n",
              "      <td>0</td>\n",
              "      <td>0</td>\n",
              "      <td>0</td>\n",
              "      <td>0</td>\n",
              "      <td>0</td>\n",
              "      <td>0</td>\n",
              "      <td>0</td>\n",
              "      <td>0</td>\n",
              "      <td>0</td>\n",
              "      <td>0</td>\n",
              "      <td>0</td>\n",
              "      <td>0</td>\n",
              "      <td>0</td>\n",
              "      <td>0</td>\n",
              "      <td>0</td>\n",
              "      <td>0</td>\n",
              "      <td>0</td>\n",
              "      <td>0</td>\n",
              "      <td>0</td>\n",
              "      <td>0</td>\n",
              "      <td>0</td>\n",
              "      <td>0</td>\n",
              "      <td>0</td>\n",
              "      <td>0</td>\n",
              "      <td>0</td>\n",
              "      <td>0</td>\n",
              "      <td>0</td>\n",
              "      <td>0</td>\n",
              "      <td>...</td>\n",
              "      <td>0</td>\n",
              "      <td>0</td>\n",
              "      <td>0</td>\n",
              "      <td>0</td>\n",
              "      <td>0</td>\n",
              "      <td>0</td>\n",
              "      <td>0</td>\n",
              "      <td>0</td>\n",
              "      <td>0</td>\n",
              "      <td>0</td>\n",
              "      <td>0</td>\n",
              "      <td>0</td>\n",
              "      <td>0</td>\n",
              "      <td>0</td>\n",
              "      <td>0</td>\n",
              "      <td>0</td>\n",
              "      <td>0</td>\n",
              "      <td>0</td>\n",
              "      <td>0</td>\n",
              "      <td>0</td>\n",
              "      <td>0</td>\n",
              "      <td>0</td>\n",
              "      <td>0</td>\n",
              "      <td>0</td>\n",
              "      <td>0</td>\n",
              "      <td>0</td>\n",
              "      <td>0</td>\n",
              "      <td>0</td>\n",
              "      <td>0</td>\n",
              "      <td>0</td>\n",
              "      <td>0</td>\n",
              "      <td>0</td>\n",
              "      <td>0</td>\n",
              "      <td>0</td>\n",
              "      <td>0</td>\n",
              "      <td>0</td>\n",
              "      <td>0</td>\n",
              "      <td>0</td>\n",
              "      <td>0</td>\n",
              "      <td>0</td>\n",
              "    </tr>\n",
              "    <tr>\n",
              "      <th>3</th>\n",
              "      <td>TRAADKW128E079503A</td>\n",
              "      <td>know like like like like go go get get get get...</td>\n",
              "      <td>[know, like, like, like, like, go, go, get, ge...</td>\n",
              "      <td>[(11, 3), (17, 1), (19, 2), (21, 1), (27, 2), ...</td>\n",
              "      <td>0</td>\n",
              "      <td>0</td>\n",
              "      <td>0</td>\n",
              "      <td>0</td>\n",
              "      <td>0</td>\n",
              "      <td>0</td>\n",
              "      <td>0</td>\n",
              "      <td>0</td>\n",
              "      <td>0</td>\n",
              "      <td>0</td>\n",
              "      <td>0</td>\n",
              "      <td>3</td>\n",
              "      <td>0</td>\n",
              "      <td>0</td>\n",
              "      <td>0</td>\n",
              "      <td>0</td>\n",
              "      <td>0</td>\n",
              "      <td>1</td>\n",
              "      <td>0</td>\n",
              "      <td>2</td>\n",
              "      <td>0</td>\n",
              "      <td>1</td>\n",
              "      <td>0</td>\n",
              "      <td>0</td>\n",
              "      <td>0</td>\n",
              "      <td>0</td>\n",
              "      <td>0</td>\n",
              "      <td>2</td>\n",
              "      <td>0</td>\n",
              "      <td>3</td>\n",
              "      <td>0</td>\n",
              "      <td>0</td>\n",
              "      <td>0</td>\n",
              "      <td>0</td>\n",
              "      <td>0</td>\n",
              "      <td>1</td>\n",
              "      <td>...</td>\n",
              "      <td>0</td>\n",
              "      <td>0</td>\n",
              "      <td>0</td>\n",
              "      <td>0</td>\n",
              "      <td>0</td>\n",
              "      <td>0</td>\n",
              "      <td>0</td>\n",
              "      <td>0</td>\n",
              "      <td>0</td>\n",
              "      <td>0</td>\n",
              "      <td>0</td>\n",
              "      <td>0</td>\n",
              "      <td>0</td>\n",
              "      <td>0</td>\n",
              "      <td>0</td>\n",
              "      <td>0</td>\n",
              "      <td>0</td>\n",
              "      <td>0</td>\n",
              "      <td>0</td>\n",
              "      <td>0</td>\n",
              "      <td>0</td>\n",
              "      <td>0</td>\n",
              "      <td>0</td>\n",
              "      <td>0</td>\n",
              "      <td>0</td>\n",
              "      <td>0</td>\n",
              "      <td>0</td>\n",
              "      <td>0</td>\n",
              "      <td>0</td>\n",
              "      <td>0</td>\n",
              "      <td>0</td>\n",
              "      <td>0</td>\n",
              "      <td>0</td>\n",
              "      <td>0</td>\n",
              "      <td>0</td>\n",
              "      <td>0</td>\n",
              "      <td>0</td>\n",
              "      <td>0</td>\n",
              "      <td>0</td>\n",
              "      <td>0</td>\n",
              "    </tr>\n",
              "    <tr>\n",
              "      <th>4</th>\n",
              "      <td>TRAADQL128F427D281</td>\n",
              "      <td>love know like time go get get get get get get...</td>\n",
              "      <td>[love, know, like, time, go, get, get, get, ge...</td>\n",
              "      <td>[(0, 1), (19, 1), (27, 1), (38, 1), (68, 1), (...</td>\n",
              "      <td>1</td>\n",
              "      <td>0</td>\n",
              "      <td>0</td>\n",
              "      <td>0</td>\n",
              "      <td>0</td>\n",
              "      <td>0</td>\n",
              "      <td>0</td>\n",
              "      <td>0</td>\n",
              "      <td>0</td>\n",
              "      <td>0</td>\n",
              "      <td>0</td>\n",
              "      <td>0</td>\n",
              "      <td>0</td>\n",
              "      <td>0</td>\n",
              "      <td>0</td>\n",
              "      <td>0</td>\n",
              "      <td>0</td>\n",
              "      <td>0</td>\n",
              "      <td>0</td>\n",
              "      <td>1</td>\n",
              "      <td>0</td>\n",
              "      <td>0</td>\n",
              "      <td>0</td>\n",
              "      <td>0</td>\n",
              "      <td>0</td>\n",
              "      <td>0</td>\n",
              "      <td>0</td>\n",
              "      <td>1</td>\n",
              "      <td>0</td>\n",
              "      <td>0</td>\n",
              "      <td>0</td>\n",
              "      <td>0</td>\n",
              "      <td>0</td>\n",
              "      <td>0</td>\n",
              "      <td>0</td>\n",
              "      <td>0</td>\n",
              "      <td>...</td>\n",
              "      <td>0</td>\n",
              "      <td>0</td>\n",
              "      <td>0</td>\n",
              "      <td>0</td>\n",
              "      <td>0</td>\n",
              "      <td>0</td>\n",
              "      <td>0</td>\n",
              "      <td>0</td>\n",
              "      <td>0</td>\n",
              "      <td>0</td>\n",
              "      <td>0</td>\n",
              "      <td>0</td>\n",
              "      <td>0</td>\n",
              "      <td>0</td>\n",
              "      <td>0</td>\n",
              "      <td>0</td>\n",
              "      <td>0</td>\n",
              "      <td>0</td>\n",
              "      <td>0</td>\n",
              "      <td>0</td>\n",
              "      <td>0</td>\n",
              "      <td>0</td>\n",
              "      <td>0</td>\n",
              "      <td>0</td>\n",
              "      <td>0</td>\n",
              "      <td>0</td>\n",
              "      <td>0</td>\n",
              "      <td>0</td>\n",
              "      <td>0</td>\n",
              "      <td>0</td>\n",
              "      <td>0</td>\n",
              "      <td>0</td>\n",
              "      <td>0</td>\n",
              "      <td>0</td>\n",
              "      <td>0</td>\n",
              "      <td>0</td>\n",
              "      <td>0</td>\n",
              "      <td>0</td>\n",
              "      <td>0</td>\n",
              "      <td>0</td>\n",
              "    </tr>\n",
              "  </tbody>\n",
              "</table>\n",
              "<p>5 rows × 5012 columns</p>\n",
              "</div>"
            ],
            "text/plain": [
              "             track_id  ... 5007\n",
              "0  TRAABJS128F9325C99  ...    0\n",
              "1  TRAACIE128F428495B  ...    0\n",
              "2  TRAACPH12903CF5F14  ...    0\n",
              "3  TRAADKW128E079503A  ...    0\n",
              "4  TRAADQL128F427D281  ...    0\n",
              "\n",
              "[5 rows x 5012 columns]"
            ]
          },
          "metadata": {
            "tags": []
          },
          "execution_count": 78
        }
      ]
    },
    {
      "cell_type": "code",
      "metadata": {
        "colab": {
          "base_uri": "https://localhost:8080/"
        },
        "id": "ko1cuQV5jRgZ",
        "outputId": "6acf2d6c-af87-4af2-ae2c-1846dba991aa"
      },
      "source": [
        "lda_model = models.LdaModel(lyrics_merge[\"vector\"], id2word=word_corpus, num_topics=100) "
      ],
      "execution_count": null,
      "outputs": [
        {
          "output_type": "stream",
          "text": [
            "/usr/local/lib/python3.7/dist-packages/gensim/models/ldamodel.py:1023: RuntimeWarning: divide by zero encountered in log\n",
            "  diff = np.log(self.expElogbeta)\n"
          ],
          "name": "stderr"
        }
      ]
    },
    {
      "cell_type": "code",
      "metadata": {
        "colab": {
          "base_uri": "https://localhost:8080/"
        },
        "id": "Zwc_Yxa9js1G",
        "outputId": "545e2f61-39e9-44b7-f308-4a07b627c12c"
      },
      "source": [
        "corpus_lda = lda_model[lyrics_merge['vector']]\n",
        "lyrics_merge = pd.concat([lyrics_merge,pd.DataFrame(U_matrix)], axis=1)\n"
      ],
      "execution_count": null,
      "outputs": [
        {
          "output_type": "stream",
          "text": [
            "/usr/local/lib/python3.7/dist-packages/gensim/matutils.py:502: FutureWarning: arrays to stack must be passed as a \"sequence\" type such as list or tuple. Support for non-sequence iterables such as generators is deprecated as of NumPy 1.16 and will raise an error in the future.\n",
            "  result = np.column_stack(sparse2full(doc, num_terms) for doc in corpus)\n"
          ],
          "name": "stderr"
        }
      ]
    },
    {
      "cell_type": "code",
      "metadata": {
        "colab": {
          "base_uri": "https://localhost:8080/",
          "height": 848
        },
        "id": "zFYBEhC0mS4_",
        "outputId": "94119882-df59-48f9-ac84-f0dce49be2be"
      },
      "source": [
        " lyrics_merge.head()"
      ],
      "execution_count": null,
      "outputs": [
        {
          "output_type": "execute_result",
          "data": {
            "text/html": [
              "<div>\n",
              "<style scoped>\n",
              "    .dataframe tbody tr th:only-of-type {\n",
              "        vertical-align: middle;\n",
              "    }\n",
              "\n",
              "    .dataframe tbody tr th {\n",
              "        vertical-align: top;\n",
              "    }\n",
              "\n",
              "    .dataframe thead th {\n",
              "        text-align: right;\n",
              "    }\n",
              "</style>\n",
              "<table border=\"1\" class=\"dataframe\">\n",
              "  <thead>\n",
              "    <tr style=\"text-align: right;\">\n",
              "      <th></th>\n",
              "      <th>track_id</th>\n",
              "      <th>lyric</th>\n",
              "      <th>lyric_clean</th>\n",
              "      <th>vector</th>\n",
              "      <th>0</th>\n",
              "      <th>1</th>\n",
              "      <th>2</th>\n",
              "      <th>3</th>\n",
              "      <th>4</th>\n",
              "      <th>5</th>\n",
              "      <th>6</th>\n",
              "      <th>7</th>\n",
              "      <th>8</th>\n",
              "      <th>9</th>\n",
              "      <th>10</th>\n",
              "      <th>11</th>\n",
              "      <th>12</th>\n",
              "      <th>13</th>\n",
              "      <th>14</th>\n",
              "      <th>15</th>\n",
              "      <th>16</th>\n",
              "      <th>17</th>\n",
              "      <th>18</th>\n",
              "      <th>19</th>\n",
              "      <th>20</th>\n",
              "      <th>21</th>\n",
              "      <th>22</th>\n",
              "      <th>23</th>\n",
              "      <th>24</th>\n",
              "      <th>25</th>\n",
              "      <th>26</th>\n",
              "      <th>27</th>\n",
              "      <th>28</th>\n",
              "      <th>29</th>\n",
              "      <th>30</th>\n",
              "      <th>31</th>\n",
              "      <th>32</th>\n",
              "      <th>33</th>\n",
              "      <th>34</th>\n",
              "      <th>35</th>\n",
              "      <th>...</th>\n",
              "      <th>60</th>\n",
              "      <th>61</th>\n",
              "      <th>62</th>\n",
              "      <th>63</th>\n",
              "      <th>64</th>\n",
              "      <th>65</th>\n",
              "      <th>66</th>\n",
              "      <th>67</th>\n",
              "      <th>68</th>\n",
              "      <th>69</th>\n",
              "      <th>70</th>\n",
              "      <th>71</th>\n",
              "      <th>72</th>\n",
              "      <th>73</th>\n",
              "      <th>74</th>\n",
              "      <th>75</th>\n",
              "      <th>76</th>\n",
              "      <th>77</th>\n",
              "      <th>78</th>\n",
              "      <th>79</th>\n",
              "      <th>80</th>\n",
              "      <th>81</th>\n",
              "      <th>82</th>\n",
              "      <th>83</th>\n",
              "      <th>84</th>\n",
              "      <th>85</th>\n",
              "      <th>86</th>\n",
              "      <th>87</th>\n",
              "      <th>88</th>\n",
              "      <th>89</th>\n",
              "      <th>90</th>\n",
              "      <th>91</th>\n",
              "      <th>92</th>\n",
              "      <th>93</th>\n",
              "      <th>94</th>\n",
              "      <th>95</th>\n",
              "      <th>96</th>\n",
              "      <th>97</th>\n",
              "      <th>98</th>\n",
              "      <th>99</th>\n",
              "    </tr>\n",
              "  </thead>\n",
              "  <tbody>\n",
              "    <tr>\n",
              "      <th>0</th>\n",
              "      <td>TRAABJS128F9325C99</td>\n",
              "      <td>come one one want way say eye tell still still...</td>\n",
              "      <td>[come, one, one, want, way, say, eye, tell, st...</td>\n",
              "      <td>[(0, 1), (1, 1), (2, 1), (3, 3), (4, 1), (5, 1...</td>\n",
              "      <td>1</td>\n",
              "      <td>1</td>\n",
              "      <td>1</td>\n",
              "      <td>3</td>\n",
              "      <td>1</td>\n",
              "      <td>1</td>\n",
              "      <td>2</td>\n",
              "      <td>2</td>\n",
              "      <td>3</td>\n",
              "      <td>1</td>\n",
              "      <td>1</td>\n",
              "      <td>2</td>\n",
              "      <td>2</td>\n",
              "      <td>1</td>\n",
              "      <td>2</td>\n",
              "      <td>2</td>\n",
              "      <td>2</td>\n",
              "      <td>1</td>\n",
              "      <td>2</td>\n",
              "      <td>1</td>\n",
              "      <td>1</td>\n",
              "      <td>2</td>\n",
              "      <td>2</td>\n",
              "      <td>3</td>\n",
              "      <td>1</td>\n",
              "      <td>2</td>\n",
              "      <td>2</td>\n",
              "      <td>1</td>\n",
              "      <td>1</td>\n",
              "      <td>1</td>\n",
              "      <td>4</td>\n",
              "      <td>1</td>\n",
              "      <td>1</td>\n",
              "      <td>0</td>\n",
              "      <td>0</td>\n",
              "      <td>0</td>\n",
              "      <td>...</td>\n",
              "      <td>0.000000</td>\n",
              "      <td>0.0</td>\n",
              "      <td>0.0</td>\n",
              "      <td>0.0</td>\n",
              "      <td>0.0</td>\n",
              "      <td>0.0</td>\n",
              "      <td>0.000000</td>\n",
              "      <td>0.0</td>\n",
              "      <td>0.000000</td>\n",
              "      <td>0.0</td>\n",
              "      <td>0.0</td>\n",
              "      <td>0.722442</td>\n",
              "      <td>0.000000</td>\n",
              "      <td>0.174383</td>\n",
              "      <td>0.065537</td>\n",
              "      <td>0.000000</td>\n",
              "      <td>0.0</td>\n",
              "      <td>0.000000</td>\n",
              "      <td>0.000000</td>\n",
              "      <td>0.000000</td>\n",
              "      <td>0.0</td>\n",
              "      <td>0.0</td>\n",
              "      <td>0.0</td>\n",
              "      <td>0.0</td>\n",
              "      <td>0.0</td>\n",
              "      <td>0.0</td>\n",
              "      <td>0.000000</td>\n",
              "      <td>0.0</td>\n",
              "      <td>0.000000</td>\n",
              "      <td>0.0</td>\n",
              "      <td>0.000000</td>\n",
              "      <td>0.000000</td>\n",
              "      <td>0.0</td>\n",
              "      <td>0.020183</td>\n",
              "      <td>0.0</td>\n",
              "      <td>0.0</td>\n",
              "      <td>0.0</td>\n",
              "      <td>0.0</td>\n",
              "      <td>0.0</td>\n",
              "      <td>0.0</td>\n",
              "    </tr>\n",
              "    <tr>\n",
              "      <th>1</th>\n",
              "      <td>TRAACIE128F428495B</td>\n",
              "      <td>love love like like come one never let let say...</td>\n",
              "      <td>[love, love, like, like, come, one, never, let...</td>\n",
              "      <td>[(1, 1), (14, 1), (19, 2), (33, 1), (34, 1), (...</td>\n",
              "      <td>0</td>\n",
              "      <td>1</td>\n",
              "      <td>0</td>\n",
              "      <td>0</td>\n",
              "      <td>0</td>\n",
              "      <td>0</td>\n",
              "      <td>0</td>\n",
              "      <td>0</td>\n",
              "      <td>0</td>\n",
              "      <td>0</td>\n",
              "      <td>0</td>\n",
              "      <td>0</td>\n",
              "      <td>0</td>\n",
              "      <td>0</td>\n",
              "      <td>1</td>\n",
              "      <td>0</td>\n",
              "      <td>0</td>\n",
              "      <td>0</td>\n",
              "      <td>0</td>\n",
              "      <td>2</td>\n",
              "      <td>0</td>\n",
              "      <td>0</td>\n",
              "      <td>0</td>\n",
              "      <td>0</td>\n",
              "      <td>0</td>\n",
              "      <td>0</td>\n",
              "      <td>0</td>\n",
              "      <td>0</td>\n",
              "      <td>0</td>\n",
              "      <td>0</td>\n",
              "      <td>0</td>\n",
              "      <td>0</td>\n",
              "      <td>0</td>\n",
              "      <td>1</td>\n",
              "      <td>1</td>\n",
              "      <td>1</td>\n",
              "      <td>...</td>\n",
              "      <td>0.044391</td>\n",
              "      <td>0.0</td>\n",
              "      <td>0.0</td>\n",
              "      <td>0.0</td>\n",
              "      <td>0.0</td>\n",
              "      <td>0.0</td>\n",
              "      <td>0.000000</td>\n",
              "      <td>0.0</td>\n",
              "      <td>0.000000</td>\n",
              "      <td>0.0</td>\n",
              "      <td>0.0</td>\n",
              "      <td>0.000000</td>\n",
              "      <td>0.000000</td>\n",
              "      <td>0.000000</td>\n",
              "      <td>0.000000</td>\n",
              "      <td>0.051139</td>\n",
              "      <td>0.0</td>\n",
              "      <td>0.011771</td>\n",
              "      <td>0.000000</td>\n",
              "      <td>0.000000</td>\n",
              "      <td>0.0</td>\n",
              "      <td>0.0</td>\n",
              "      <td>0.0</td>\n",
              "      <td>0.0</td>\n",
              "      <td>0.0</td>\n",
              "      <td>0.0</td>\n",
              "      <td>0.000000</td>\n",
              "      <td>0.0</td>\n",
              "      <td>0.029553</td>\n",
              "      <td>0.0</td>\n",
              "      <td>0.000000</td>\n",
              "      <td>0.075841</td>\n",
              "      <td>0.0</td>\n",
              "      <td>0.000000</td>\n",
              "      <td>0.0</td>\n",
              "      <td>0.0</td>\n",
              "      <td>0.0</td>\n",
              "      <td>0.0</td>\n",
              "      <td>0.0</td>\n",
              "      <td>0.0</td>\n",
              "    </tr>\n",
              "    <tr>\n",
              "      <th>2</th>\n",
              "      <td>TRAACPH12903CF5F14</td>\n",
              "      <td>come see eye thing live live everyth word much...</td>\n",
              "      <td>[come, see, eye, thing, live, live, everyth, w...</td>\n",
              "      <td>[(1, 1), (2, 1), (72, 1), (105, 2), (106, 1), ...</td>\n",
              "      <td>0</td>\n",
              "      <td>1</td>\n",
              "      <td>1</td>\n",
              "      <td>0</td>\n",
              "      <td>0</td>\n",
              "      <td>0</td>\n",
              "      <td>0</td>\n",
              "      <td>0</td>\n",
              "      <td>0</td>\n",
              "      <td>0</td>\n",
              "      <td>0</td>\n",
              "      <td>0</td>\n",
              "      <td>0</td>\n",
              "      <td>0</td>\n",
              "      <td>0</td>\n",
              "      <td>0</td>\n",
              "      <td>0</td>\n",
              "      <td>0</td>\n",
              "      <td>0</td>\n",
              "      <td>0</td>\n",
              "      <td>0</td>\n",
              "      <td>0</td>\n",
              "      <td>0</td>\n",
              "      <td>0</td>\n",
              "      <td>0</td>\n",
              "      <td>0</td>\n",
              "      <td>0</td>\n",
              "      <td>0</td>\n",
              "      <td>0</td>\n",
              "      <td>0</td>\n",
              "      <td>0</td>\n",
              "      <td>0</td>\n",
              "      <td>0</td>\n",
              "      <td>0</td>\n",
              "      <td>0</td>\n",
              "      <td>0</td>\n",
              "      <td>...</td>\n",
              "      <td>0.000000</td>\n",
              "      <td>0.0</td>\n",
              "      <td>0.0</td>\n",
              "      <td>0.0</td>\n",
              "      <td>0.0</td>\n",
              "      <td>0.0</td>\n",
              "      <td>0.000000</td>\n",
              "      <td>0.0</td>\n",
              "      <td>0.000000</td>\n",
              "      <td>0.0</td>\n",
              "      <td>0.0</td>\n",
              "      <td>0.000000</td>\n",
              "      <td>0.000000</td>\n",
              "      <td>0.000000</td>\n",
              "      <td>0.000000</td>\n",
              "      <td>0.000000</td>\n",
              "      <td>0.0</td>\n",
              "      <td>0.000000</td>\n",
              "      <td>0.000000</td>\n",
              "      <td>0.000000</td>\n",
              "      <td>0.0</td>\n",
              "      <td>0.0</td>\n",
              "      <td>0.0</td>\n",
              "      <td>0.0</td>\n",
              "      <td>0.0</td>\n",
              "      <td>0.0</td>\n",
              "      <td>0.000000</td>\n",
              "      <td>0.0</td>\n",
              "      <td>0.000000</td>\n",
              "      <td>0.0</td>\n",
              "      <td>0.000000</td>\n",
              "      <td>0.000000</td>\n",
              "      <td>0.0</td>\n",
              "      <td>0.000000</td>\n",
              "      <td>0.0</td>\n",
              "      <td>0.0</td>\n",
              "      <td>0.0</td>\n",
              "      <td>0.0</td>\n",
              "      <td>0.0</td>\n",
              "      <td>0.0</td>\n",
              "    </tr>\n",
              "    <tr>\n",
              "      <th>3</th>\n",
              "      <td>TRAADKW128E079503A</td>\n",
              "      <td>know like like like like go go get get get get...</td>\n",
              "      <td>[know, like, like, like, like, go, go, get, ge...</td>\n",
              "      <td>[(11, 3), (17, 1), (19, 2), (21, 1), (27, 2), ...</td>\n",
              "      <td>0</td>\n",
              "      <td>0</td>\n",
              "      <td>0</td>\n",
              "      <td>0</td>\n",
              "      <td>0</td>\n",
              "      <td>0</td>\n",
              "      <td>0</td>\n",
              "      <td>0</td>\n",
              "      <td>0</td>\n",
              "      <td>0</td>\n",
              "      <td>0</td>\n",
              "      <td>3</td>\n",
              "      <td>0</td>\n",
              "      <td>0</td>\n",
              "      <td>0</td>\n",
              "      <td>0</td>\n",
              "      <td>0</td>\n",
              "      <td>1</td>\n",
              "      <td>0</td>\n",
              "      <td>2</td>\n",
              "      <td>0</td>\n",
              "      <td>1</td>\n",
              "      <td>0</td>\n",
              "      <td>0</td>\n",
              "      <td>0</td>\n",
              "      <td>0</td>\n",
              "      <td>0</td>\n",
              "      <td>2</td>\n",
              "      <td>0</td>\n",
              "      <td>3</td>\n",
              "      <td>0</td>\n",
              "      <td>0</td>\n",
              "      <td>0</td>\n",
              "      <td>0</td>\n",
              "      <td>0</td>\n",
              "      <td>1</td>\n",
              "      <td>...</td>\n",
              "      <td>0.000000</td>\n",
              "      <td>0.0</td>\n",
              "      <td>0.0</td>\n",
              "      <td>0.0</td>\n",
              "      <td>0.0</td>\n",
              "      <td>0.0</td>\n",
              "      <td>0.108292</td>\n",
              "      <td>0.0</td>\n",
              "      <td>0.000000</td>\n",
              "      <td>0.0</td>\n",
              "      <td>0.0</td>\n",
              "      <td>0.000000</td>\n",
              "      <td>0.000000</td>\n",
              "      <td>0.000000</td>\n",
              "      <td>0.000000</td>\n",
              "      <td>0.000000</td>\n",
              "      <td>0.0</td>\n",
              "      <td>0.000000</td>\n",
              "      <td>0.127909</td>\n",
              "      <td>0.246825</td>\n",
              "      <td>0.0</td>\n",
              "      <td>0.0</td>\n",
              "      <td>0.0</td>\n",
              "      <td>0.0</td>\n",
              "      <td>0.0</td>\n",
              "      <td>0.0</td>\n",
              "      <td>0.037122</td>\n",
              "      <td>0.0</td>\n",
              "      <td>0.000000</td>\n",
              "      <td>0.0</td>\n",
              "      <td>0.019379</td>\n",
              "      <td>0.000000</td>\n",
              "      <td>0.0</td>\n",
              "      <td>0.000000</td>\n",
              "      <td>0.0</td>\n",
              "      <td>0.0</td>\n",
              "      <td>0.0</td>\n",
              "      <td>0.0</td>\n",
              "      <td>0.0</td>\n",
              "      <td>0.0</td>\n",
              "    </tr>\n",
              "    <tr>\n",
              "      <th>4</th>\n",
              "      <td>TRAADQL128F427D281</td>\n",
              "      <td>love know like time go get get get get get get...</td>\n",
              "      <td>[love, know, like, time, go, get, get, get, ge...</td>\n",
              "      <td>[(0, 1), (19, 1), (27, 1), (38, 1), (68, 1), (...</td>\n",
              "      <td>1</td>\n",
              "      <td>0</td>\n",
              "      <td>0</td>\n",
              "      <td>0</td>\n",
              "      <td>0</td>\n",
              "      <td>0</td>\n",
              "      <td>0</td>\n",
              "      <td>0</td>\n",
              "      <td>0</td>\n",
              "      <td>0</td>\n",
              "      <td>0</td>\n",
              "      <td>0</td>\n",
              "      <td>0</td>\n",
              "      <td>0</td>\n",
              "      <td>0</td>\n",
              "      <td>0</td>\n",
              "      <td>0</td>\n",
              "      <td>0</td>\n",
              "      <td>0</td>\n",
              "      <td>1</td>\n",
              "      <td>0</td>\n",
              "      <td>0</td>\n",
              "      <td>0</td>\n",
              "      <td>0</td>\n",
              "      <td>0</td>\n",
              "      <td>0</td>\n",
              "      <td>0</td>\n",
              "      <td>1</td>\n",
              "      <td>0</td>\n",
              "      <td>0</td>\n",
              "      <td>0</td>\n",
              "      <td>0</td>\n",
              "      <td>0</td>\n",
              "      <td>0</td>\n",
              "      <td>0</td>\n",
              "      <td>0</td>\n",
              "      <td>...</td>\n",
              "      <td>0.000000</td>\n",
              "      <td>0.0</td>\n",
              "      <td>0.0</td>\n",
              "      <td>0.0</td>\n",
              "      <td>0.0</td>\n",
              "      <td>0.0</td>\n",
              "      <td>0.000000</td>\n",
              "      <td>0.0</td>\n",
              "      <td>0.059225</td>\n",
              "      <td>0.0</td>\n",
              "      <td>0.0</td>\n",
              "      <td>0.000000</td>\n",
              "      <td>0.074141</td>\n",
              "      <td>0.000000</td>\n",
              "      <td>0.000000</td>\n",
              "      <td>0.000000</td>\n",
              "      <td>0.0</td>\n",
              "      <td>0.000000</td>\n",
              "      <td>0.000000</td>\n",
              "      <td>0.000000</td>\n",
              "      <td>0.0</td>\n",
              "      <td>0.0</td>\n",
              "      <td>0.0</td>\n",
              "      <td>0.0</td>\n",
              "      <td>0.0</td>\n",
              "      <td>0.0</td>\n",
              "      <td>0.000000</td>\n",
              "      <td>0.0</td>\n",
              "      <td>0.000000</td>\n",
              "      <td>0.0</td>\n",
              "      <td>0.000000</td>\n",
              "      <td>0.000000</td>\n",
              "      <td>0.0</td>\n",
              "      <td>0.000000</td>\n",
              "      <td>0.0</td>\n",
              "      <td>0.0</td>\n",
              "      <td>0.0</td>\n",
              "      <td>0.0</td>\n",
              "      <td>0.0</td>\n",
              "      <td>0.0</td>\n",
              "    </tr>\n",
              "  </tbody>\n",
              "</table>\n",
              "<p>5 rows × 5112 columns</p>\n",
              "</div>"
            ],
            "text/plain": [
              "             track_id  ...   99\n",
              "0  TRAABJS128F9325C99  ...  0.0\n",
              "1  TRAACIE128F428495B  ...  0.0\n",
              "2  TRAACPH12903CF5F14  ...  0.0\n",
              "3  TRAADKW128E079503A  ...  0.0\n",
              "4  TRAADQL128F427D281  ...  0.0\n",
              "\n",
              "[5 rows x 5112 columns]"
            ]
          },
          "metadata": {
            "tags": []
          },
          "execution_count": 81
        }
      ]
    },
    {
      "cell_type": "code",
      "metadata": {
        "id": "bXNXbAKkmprb"
      },
      "source": [
        "topics = pd.DataFrame(U_matrix)\n",
        "features_df = pd.read_csv(\"/content/drive/MyDrive/song_lyrics/features_song_lyrics.csv\")"
      ],
      "execution_count": null,
      "outputs": []
    },
    {
      "cell_type": "code",
      "metadata": {
        "colab": {
          "base_uri": "https://localhost:8080/"
        },
        "id": "DoiaDLv81R5o",
        "outputId": "d33fc843-b2c6-484f-8d86-db16e01b6000"
      },
      "source": [
        "U_matrix.T.shape"
      ],
      "execution_count": null,
      "outputs": [
        {
          "output_type": "execute_result",
          "data": {
            "text/plain": [
              "(100, 5630)"
            ]
          },
          "metadata": {
            "tags": []
          },
          "execution_count": 83
        }
      ]
    },
    {
      "cell_type": "code",
      "metadata": {
        "id": "oe4i794IoDUn"
      },
      "source": [
        "from sklearn.metrics.pairwise import cosine_similarity"
      ],
      "execution_count": null,
      "outputs": []
    },
    {
      "cell_type": "code",
      "metadata": {
        "id": "tZsKO9lqnZ2h"
      },
      "source": [
        "similarity_tfidf = cosine_similarity(tfidf)"
      ],
      "execution_count": null,
      "outputs": []
    },
    {
      "cell_type": "code",
      "metadata": {
        "id": "P4NbBd3NoBBo"
      },
      "source": [
        "similarity_wordToVector = cosine_similarity(features_df.to_numpy())"
      ],
      "execution_count": null,
      "outputs": []
    },
    {
      "cell_type": "code",
      "metadata": {
        "id": "enwwRYZaoLdM"
      },
      "source": [
        "similarity_lda = cosine_similarity(topics.to_numpy())"
      ],
      "execution_count": null,
      "outputs": []
    },
    {
      "cell_type": "code",
      "metadata": {
        "id": "bX380rjio1-q"
      },
      "source": [
        "index_li = pd.Series(merge_data['track_id'])"
      ],
      "execution_count": null,
      "outputs": []
    },
    {
      "cell_type": "code",
      "metadata": {
        "colab": {
          "base_uri": "https://localhost:8080/"
        },
        "id": "3uyrEtnqo_6j",
        "outputId": "3e2e3ad5-4c6d-4e3a-c624-f2b83c8712a8"
      },
      "source": [
        "index_li[:5]"
      ],
      "execution_count": null,
      "outputs": [
        {
          "output_type": "execute_result",
          "data": {
            "text/plain": [
              "0    TRAABJS128F9325C99\n",
              "1    TRAACIE128F428495B\n",
              "2    TRAACPH12903CF5F14\n",
              "3    TRAADKW128E079503A\n",
              "4    TRAADQL128F427D281\n",
              "Name: track_id, dtype: object"
            ]
          },
          "metadata": {
            "tags": []
          },
          "execution_count": 89
        }
      ]
    },
    {
      "cell_type": "code",
      "metadata": {
        "id": "myqtmt7Nx7Xa"
      },
      "source": [
        "meta_data =pd.read_csv(\"/content/drive/MyDrive/meta_data.csv\")"
      ],
      "execution_count": null,
      "outputs": []
    },
    {
      "cell_type": "code",
      "metadata": {
        "id": "CtWhiKDapAeS"
      },
      "source": [
        "def recommend_id(track_id, cosine_sim):\n",
        "    if len(index_li[index_li == track_id]) != 0:\n",
        "        idx = index_li[index_li == track_id].index[0]\n",
        "        # print(idx)\n",
        "        global score_series\n",
        "        score_series = pd.Series(cosine_sim[idx]).sort_values(ascending = False)\n",
        "        # print(score_series)\n",
        "        top10_indexes = list(score_series.iloc[1:11].index)\n",
        "\n",
        "        recommend_trackid = merge_data.iloc[top10_indexes][['track_id']]\n",
        "        recommend_track = recommend_trackid.merge(meta_data[['track_id', 'artist_name', 'title']], how='inner', on='track_id')[['artist_name', 'title']]\n",
        "    else:\n",
        "        recommend_track = pd.DataFrame()\n",
        "    return recommend_track\n",
        "\n",
        "def recommend_title(title, artist, cosine_sim):\n",
        "    similar_artist = {}\n",
        "    recommended = pd.DataFrame()\n",
        "    # try:\n",
        "    track_input = meta_data.loc[meta_data['title']==title].loc[meta_data['artist_name']==artist, ['track_id', 'artist_id']].reset_index(drop=True)\n",
        "    # print(\"hi\")\n",
        "    # print(track_input)\n",
        "    tid = track_input['track_id'][0] \n",
        "    # print(\"tid\")\n",
        "    aid = track_input['artist_id'][0]\n",
        "    # print(\"hi\")\n",
        "    recommended = recommended.append(meta_data.loc[meta_data['track_id']==tid, ['artist_name', 'title']])\n",
        "    # print(recommended)\n",
        "    recommended = recommended.append(recommend_id(tid, cosine_sim))\n",
        "    # print(\"after function call\")\n",
        "    return recommended.reset_index(drop=True)\n",
        "    # except:\n",
        "    #   print(\"Match error, no song found\")\n",
        "    #   return pd.DataFrame"
      ],
      "execution_count": null,
      "outputs": []
    },
    {
      "cell_type": "code",
      "metadata": {
        "colab": {
          "base_uri": "https://localhost:8080/",
          "height": 390
        },
        "id": "pOTCZYe6z35n",
        "outputId": "7320dc22-4072-4d2f-91a8-f47fba2eb5ca"
      },
      "source": [
        "#Recommendation using LDA\n",
        "recommend_title(\"Anyone Else But You\",\"Michael Cera & Ellen Page\",similarity_lda)"
      ],
      "execution_count": null,
      "outputs": [
        {
          "output_type": "execute_result",
          "data": {
            "text/html": [
              "<div>\n",
              "<style scoped>\n",
              "    .dataframe tbody tr th:only-of-type {\n",
              "        vertical-align: middle;\n",
              "    }\n",
              "\n",
              "    .dataframe tbody tr th {\n",
              "        vertical-align: top;\n",
              "    }\n",
              "\n",
              "    .dataframe thead th {\n",
              "        text-align: right;\n",
              "    }\n",
              "</style>\n",
              "<table border=\"1\" class=\"dataframe\">\n",
              "  <thead>\n",
              "    <tr style=\"text-align: right;\">\n",
              "      <th></th>\n",
              "      <th>artist_name</th>\n",
              "      <th>title</th>\n",
              "    </tr>\n",
              "  </thead>\n",
              "  <tbody>\n",
              "    <tr>\n",
              "      <th>0</th>\n",
              "      <td>Michael Cera &amp; Ellen Page</td>\n",
              "      <td>Anyone Else But You</td>\n",
              "    </tr>\n",
              "    <tr>\n",
              "      <th>1</th>\n",
              "      <td>The Moldy Peaches</td>\n",
              "      <td>Anyone Else But You</td>\n",
              "    </tr>\n",
              "    <tr>\n",
              "      <th>2</th>\n",
              "      <td>Suspekt</td>\n",
              "      <td>Kinky Fætter</td>\n",
              "    </tr>\n",
              "    <tr>\n",
              "      <th>3</th>\n",
              "      <td>Blur</td>\n",
              "      <td>For Tomorrow</td>\n",
              "    </tr>\n",
              "    <tr>\n",
              "      <th>4</th>\n",
              "      <td>Goldfrapp</td>\n",
              "      <td>Ooh La La</td>\n",
              "    </tr>\n",
              "    <tr>\n",
              "      <th>5</th>\n",
              "      <td>Mae</td>\n",
              "      <td>Communication</td>\n",
              "    </tr>\n",
              "    <tr>\n",
              "      <th>6</th>\n",
              "      <td>A Day To Remember</td>\n",
              "      <td>If It Means A Lot To You</td>\n",
              "    </tr>\n",
              "    <tr>\n",
              "      <th>7</th>\n",
              "      <td>Blur</td>\n",
              "      <td>This Is A Low</td>\n",
              "    </tr>\n",
              "    <tr>\n",
              "      <th>8</th>\n",
              "      <td>Nirvana</td>\n",
              "      <td>Breed</td>\n",
              "    </tr>\n",
              "    <tr>\n",
              "      <th>9</th>\n",
              "      <td>The Grass Roots</td>\n",
              "      <td>Let's Live For Today</td>\n",
              "    </tr>\n",
              "    <tr>\n",
              "      <th>10</th>\n",
              "      <td>Lady GaGa</td>\n",
              "      <td>Fashion</td>\n",
              "    </tr>\n",
              "  </tbody>\n",
              "</table>\n",
              "</div>"
            ],
            "text/plain": [
              "                  artist_name                     title\n",
              "0   Michael Cera & Ellen Page       Anyone Else But You\n",
              "1           The Moldy Peaches       Anyone Else But You\n",
              "2                     Suspekt              Kinky Fætter\n",
              "3                        Blur              For Tomorrow\n",
              "4                   Goldfrapp                 Ooh La La\n",
              "5                         Mae             Communication\n",
              "6           A Day To Remember  If It Means A Lot To You\n",
              "7                        Blur             This Is A Low\n",
              "8                     Nirvana                     Breed\n",
              "9             The Grass Roots      Let's Live For Today\n",
              "10                  Lady GaGa                   Fashion"
            ]
          },
          "metadata": {
            "tags": []
          },
          "execution_count": 92
        }
      ]
    },
    {
      "cell_type": "code",
      "metadata": {
        "colab": {
          "base_uri": "https://localhost:8080/",
          "height": 390
        },
        "id": "EZfaHCqWrLoG",
        "outputId": "c8c259c9-5630-4c4f-8bf1-224c970950e8"
      },
      "source": [
        "#Recommendation using tfidf\n",
        "recommend_title(\"Anyone Else But You\",\"Michael Cera & Ellen Page\",similarity_tfidf)"
      ],
      "execution_count": null,
      "outputs": [
        {
          "output_type": "execute_result",
          "data": {
            "text/html": [
              "<div>\n",
              "<style scoped>\n",
              "    .dataframe tbody tr th:only-of-type {\n",
              "        vertical-align: middle;\n",
              "    }\n",
              "\n",
              "    .dataframe tbody tr th {\n",
              "        vertical-align: top;\n",
              "    }\n",
              "\n",
              "    .dataframe thead th {\n",
              "        text-align: right;\n",
              "    }\n",
              "</style>\n",
              "<table border=\"1\" class=\"dataframe\">\n",
              "  <thead>\n",
              "    <tr style=\"text-align: right;\">\n",
              "      <th></th>\n",
              "      <th>artist_name</th>\n",
              "      <th>title</th>\n",
              "    </tr>\n",
              "  </thead>\n",
              "  <tbody>\n",
              "    <tr>\n",
              "      <th>0</th>\n",
              "      <td>Michael Cera &amp; Ellen Page</td>\n",
              "      <td>Anyone Else But You</td>\n",
              "    </tr>\n",
              "    <tr>\n",
              "      <th>1</th>\n",
              "      <td>The Moldy Peaches</td>\n",
              "      <td>Anyone Else But You</td>\n",
              "    </tr>\n",
              "    <tr>\n",
              "      <th>2</th>\n",
              "      <td>Gene Kelly</td>\n",
              "      <td>Singing in the Rain</td>\n",
              "    </tr>\n",
              "    <tr>\n",
              "      <th>3</th>\n",
              "      <td>Markus Krunegård</td>\n",
              "      <td>Genom tunna tyger</td>\n",
              "    </tr>\n",
              "    <tr>\n",
              "      <th>4</th>\n",
              "      <td>Alexi Murdoch</td>\n",
              "      <td>Love You More</td>\n",
              "    </tr>\n",
              "    <tr>\n",
              "      <th>5</th>\n",
              "      <td>Rammstein</td>\n",
              "      <td>Du Riechst So Gut</td>\n",
              "    </tr>\n",
              "    <tr>\n",
              "      <th>6</th>\n",
              "      <td>Suspekt</td>\n",
              "      <td>Kinky Fætter</td>\n",
              "    </tr>\n",
              "    <tr>\n",
              "      <th>7</th>\n",
              "      <td>Hot Chip</td>\n",
              "      <td>Look After Me</td>\n",
              "    </tr>\n",
              "    <tr>\n",
              "      <th>8</th>\n",
              "      <td>Rammstein</td>\n",
              "      <td>Tier</td>\n",
              "    </tr>\n",
              "    <tr>\n",
              "      <th>9</th>\n",
              "      <td>The Killers</td>\n",
              "      <td>Romeo And Juliet</td>\n",
              "    </tr>\n",
              "    <tr>\n",
              "      <th>10</th>\n",
              "      <td>Rammstein</td>\n",
              "      <td>Seemann</td>\n",
              "    </tr>\n",
              "  </tbody>\n",
              "</table>\n",
              "</div>"
            ],
            "text/plain": [
              "                  artist_name                title\n",
              "0   Michael Cera & Ellen Page  Anyone Else But You\n",
              "1           The Moldy Peaches  Anyone Else But You\n",
              "2                  Gene Kelly  Singing in the Rain\n",
              "3            Markus Krunegård    Genom tunna tyger\n",
              "4               Alexi Murdoch        Love You More\n",
              "5                   Rammstein    Du Riechst So Gut\n",
              "6                     Suspekt         Kinky Fætter\n",
              "7                    Hot Chip        Look After Me\n",
              "8                   Rammstein                 Tier\n",
              "9                 The Killers     Romeo And Juliet\n",
              "10                  Rammstein              Seemann"
            ]
          },
          "metadata": {
            "tags": []
          },
          "execution_count": 93
        }
      ]
    },
    {
      "cell_type": "code",
      "metadata": {
        "colab": {
          "base_uri": "https://localhost:8080/",
          "height": 390
        },
        "id": "7cVMIVPoz0Zv",
        "outputId": "d59ea79e-01d1-4b95-c957-802cb46a2cb0"
      },
      "source": [
        "#recommendations using word to Vector\n",
        "recommend_title(\"Anyone Else But You\",\"Michael Cera & Ellen Page\",similarity_wordToVector)"
      ],
      "execution_count": null,
      "outputs": [
        {
          "output_type": "execute_result",
          "data": {
            "text/html": [
              "<div>\n",
              "<style scoped>\n",
              "    .dataframe tbody tr th:only-of-type {\n",
              "        vertical-align: middle;\n",
              "    }\n",
              "\n",
              "    .dataframe tbody tr th {\n",
              "        vertical-align: top;\n",
              "    }\n",
              "\n",
              "    .dataframe thead th {\n",
              "        text-align: right;\n",
              "    }\n",
              "</style>\n",
              "<table border=\"1\" class=\"dataframe\">\n",
              "  <thead>\n",
              "    <tr style=\"text-align: right;\">\n",
              "      <th></th>\n",
              "      <th>artist_name</th>\n",
              "      <th>title</th>\n",
              "    </tr>\n",
              "  </thead>\n",
              "  <tbody>\n",
              "    <tr>\n",
              "      <th>0</th>\n",
              "      <td>Michael Cera &amp; Ellen Page</td>\n",
              "      <td>Anyone Else But You</td>\n",
              "    </tr>\n",
              "    <tr>\n",
              "      <th>1</th>\n",
              "      <td>The Moldy Peaches</td>\n",
              "      <td>Anyone Else But You</td>\n",
              "    </tr>\n",
              "    <tr>\n",
              "      <th>2</th>\n",
              "      <td>Beyonce</td>\n",
              "      <td>Daddy</td>\n",
              "    </tr>\n",
              "    <tr>\n",
              "      <th>3</th>\n",
              "      <td>NEEDTOBREATHE</td>\n",
              "      <td>Shine On (Album Version)</td>\n",
              "    </tr>\n",
              "    <tr>\n",
              "      <th>4</th>\n",
              "      <td>Hot Chip</td>\n",
              "      <td>Playboy</td>\n",
              "    </tr>\n",
              "    <tr>\n",
              "      <th>5</th>\n",
              "      <td>Jason Mraz</td>\n",
              "      <td>You And I Both (LP Version)</td>\n",
              "    </tr>\n",
              "    <tr>\n",
              "      <th>6</th>\n",
              "      <td>Mike Jones</td>\n",
              "      <td>Mr. Jones (Explicit Version)</td>\n",
              "    </tr>\n",
              "    <tr>\n",
              "      <th>7</th>\n",
              "      <td>Owl City</td>\n",
              "      <td>Tidal Wave</td>\n",
              "    </tr>\n",
              "    <tr>\n",
              "      <th>8</th>\n",
              "      <td>Vampire Weekend</td>\n",
              "      <td>M79 (Album)</td>\n",
              "    </tr>\n",
              "    <tr>\n",
              "      <th>9</th>\n",
              "      <td>Bright Eyes</td>\n",
              "      <td>First Day Of My Life (Single Version)</td>\n",
              "    </tr>\n",
              "    <tr>\n",
              "      <th>10</th>\n",
              "      <td>Radiohead</td>\n",
              "      <td>How Do You?</td>\n",
              "    </tr>\n",
              "  </tbody>\n",
              "</table>\n",
              "</div>"
            ],
            "text/plain": [
              "                  artist_name                                  title\n",
              "0   Michael Cera & Ellen Page                    Anyone Else But You\n",
              "1           The Moldy Peaches                    Anyone Else But You\n",
              "2                     Beyonce                                  Daddy\n",
              "3               NEEDTOBREATHE               Shine On (Album Version)\n",
              "4                    Hot Chip                                Playboy\n",
              "5                  Jason Mraz            You And I Both (LP Version)\n",
              "6                  Mike Jones           Mr. Jones (Explicit Version)\n",
              "7                    Owl City                             Tidal Wave\n",
              "8             Vampire Weekend                            M79 (Album)\n",
              "9                 Bright Eyes  First Day Of My Life (Single Version)\n",
              "10                  Radiohead                            How Do You?"
            ]
          },
          "metadata": {
            "tags": []
          },
          "execution_count": 94
        }
      ]
    },
    {
      "cell_type": "code",
      "metadata": {
        "id": "bN0fsTwKsIHi"
      },
      "source": [
        ""
      ],
      "execution_count": null,
      "outputs": []
    }
  ]
}